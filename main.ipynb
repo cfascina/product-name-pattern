{
 "cells": [
  {
   "cell_type": "markdown",
   "metadata": {},
   "source": [
    "#### Initial configurations"
   ]
  },
  {
   "cell_type": "code",
   "execution_count": 1,
   "metadata": {},
   "outputs": [],
   "source": [
    "import pandas as pd\n",
    "import re"
   ]
  },
  {
   "cell_type": "code",
   "execution_count": 2,
   "metadata": {},
   "outputs": [],
   "source": [
    "df = pd.read_csv('inputs/data_storeproduct_202208111119.csv', usecols = ['id', 'name'])"
   ]
  },
  {
   "cell_type": "code",
   "execution_count": 3,
   "metadata": {},
   "outputs": [
    {
     "data": {
      "text/plain": [
       "(820512, 2)"
      ]
     },
     "execution_count": 3,
     "metadata": {},
     "output_type": "execute_result"
    }
   ],
   "source": [
    "df.shape"
   ]
  },
  {
   "cell_type": "code",
   "execution_count": 4,
   "metadata": {},
   "outputs": [],
   "source": [
    "df.drop_duplicates(subset = 'name', inplace = True)"
   ]
  },
  {
   "cell_type": "code",
   "execution_count": 5,
   "metadata": {},
   "outputs": [
    {
     "data": {
      "text/plain": [
       "(306052, 2)"
      ]
     },
     "execution_count": 5,
     "metadata": {},
     "output_type": "execute_result"
    }
   ],
   "source": [
    "df.shape"
   ]
  },
  {
   "cell_type": "code",
   "execution_count": 6,
   "metadata": {},
   "outputs": [],
   "source": [
    "df['name'] = df['name'].str.upper()"
   ]
  },
  {
   "cell_type": "code",
   "execution_count": 7,
   "metadata": {},
   "outputs": [],
   "source": [
    "df['clean'] = df['name']"
   ]
  },
  {
   "cell_type": "markdown",
   "metadata": {},
   "source": [
    "---"
   ]
  },
  {
   "cell_type": "markdown",
   "metadata": {},
   "source": [
    "### Removes parentheses"
   ]
  },
  {
   "cell_type": "code",
   "execution_count": 8,
   "metadata": {},
   "outputs": [],
   "source": [
    "df['clean'] = df['clean'].apply(lambda x: re.sub(r'\\([^()]*\\)', '', x) if x else x)"
   ]
  },
  {
   "cell_type": "code",
   "execution_count": 9,
   "metadata": {},
   "outputs": [],
   "source": [
    "# # Tested Items\n",
    "# df.loc[[743024, 270107, 210205, 295409, 295406, 764575, 208980, 205859, 764574, 796994, 744286]]"
   ]
  },
  {
   "cell_type": "markdown",
   "metadata": {},
   "source": [
    "---"
   ]
  },
  {
   "cell_type": "markdown",
   "metadata": {},
   "source": [
    "### Removes initial digits"
   ]
  },
  {
   "cell_type": "code",
   "execution_count": 10,
   "metadata": {},
   "outputs": [],
   "source": [
    "def clean_initial_digits(name):\n",
    "    try:\n",
    "        word = name.split()[0]\n",
    "        digits = sum(l.isdigit() for l in word)\n",
    "        \n",
    "        if digits >= len(word) - digits:\n",
    "            return name.replace(word, '')\n",
    "        else:\n",
    "            return name\n",
    "    except:\n",
    "        return name"
   ]
  },
  {
   "cell_type": "code",
   "execution_count": 11,
   "metadata": {},
   "outputs": [],
   "source": [
    "df['clean'] = df['clean'].apply(lambda x: clean_initial_digits(x))"
   ]
  },
  {
   "cell_type": "code",
   "execution_count": 12,
   "metadata": {},
   "outputs": [],
   "source": [
    "# # Tested Items\n",
    "# df.loc[[638551, 337465, 337317, 32411, 557546]]"
   ]
  },
  {
   "cell_type": "markdown",
   "metadata": {},
   "source": [
    "---"
   ]
  },
  {
   "cell_type": "markdown",
   "metadata": {},
   "source": [
    "### Removes initial characters"
   ]
  },
  {
   "cell_type": "code",
   "execution_count": 13,
   "metadata": {},
   "outputs": [],
   "source": [
    "def clean_initial_characters(name):\n",
    "    chars = ['!', '%', '*', '+', ',', '-', '.', '/', '<', '=']\n",
    "    to_remove = []\n",
    "\n",
    "    try:\n",
    "        word = name.split()[0]\n",
    "        for letter in word:\n",
    "            if letter in chars:\n",
    "                to_remove.append(letter)\n",
    "        \n",
    "        if len(to_remove) > 0:\n",
    "            cleaned = ''.join([w for w in word if w not in to_remove])\n",
    "            name = name.split()[1:]\n",
    "            name.insert(0, cleaned)\n",
    "            \n",
    "            return ' '.join(name)\n",
    "        else:\n",
    "            return name\n",
    "    except:\n",
    "        return name"
   ]
  },
  {
   "cell_type": "code",
   "execution_count": 14,
   "metadata": {},
   "outputs": [],
   "source": [
    "df['clean'] = df['clean'].apply(lambda x: clean_initial_characters(x))"
   ]
  },
  {
   "cell_type": "code",
   "execution_count": 15,
   "metadata": {},
   "outputs": [],
   "source": [
    "# # Tested Items\n",
    "# df.loc[[481395, 295715, 755477, 178663, 484751, 239320, 28118, 280929, 170862, 106470]]"
   ]
  },
  {
   "cell_type": "markdown",
   "metadata": {},
   "source": [
    "---"
   ]
  },
  {
   "cell_type": "markdown",
   "metadata": {},
   "source": [
    "### Removes units"
   ]
  },
  {
   "cell_type": "code",
   "execution_count": 16,
   "metadata": {},
   "outputs": [],
   "source": [
    "def clean_units(name):\n",
    "    units = [\n",
    "        'U', 'G', 'V', 'P', 'L', 'M', \n",
    "        'GR', 'KG', 'ML', 'UN', 'CM', 'MG', 'CP', 'MM', 'CM', 'PC', \n",
    "        'CPS', 'CPR', 'VOL', 'CAP', 'UND', 'GRS', \n",
    "        'CAPS', 'UNID', 'UNDS', 'CPRS', 'COMP', \n",
    "        'UNID.', 'SACHES' \n",
    "    ]\n",
    "    to_remove = []\n",
    "    words = name.split()\n",
    "\n",
    "    for word in words:\n",
    "        for unit in units:\n",
    "            if word == unit:\n",
    "                to_remove.append(word)\n",
    "                \n",
    "                try:\n",
    "                    previous_word = words[words.index(word) - 1]\n",
    "                    digits = sum(c.isdigit() for c in previous_word)\n",
    "\n",
    "                    if digits >= len(previous_word) - digits:\n",
    "                        to_remove.append(previous_word)\n",
    "                except:\n",
    "                    pass\n",
    "\n",
    "            if word[-len(unit):] == unit:\n",
    "                qty = word[:-len(unit)]\n",
    "                digits = sum(c.isdigit() for c in qty)\n",
    "                \n",
    "                if digits >= len(qty) - digits:\n",
    "                    to_remove.append(word)\n",
    "\n",
    "    return ' '.join([word for word in words if word not in to_remove])"
   ]
  },
  {
   "cell_type": "code",
   "execution_count": 17,
   "metadata": {},
   "outputs": [],
   "source": [
    "df['clean'] = df['clean'].apply(lambda x: clean_units(x))"
   ]
  },
  {
   "cell_type": "code",
   "execution_count": 18,
   "metadata": {},
   "outputs": [],
   "source": [
    "# # Tested Items\n",
    "# df.loc[[\n",
    "#     363199, 635298, 40689,  740467, 213141, 679374, 288780, 810939, 510231, 648258, \n",
    "#     704156, 178001, 413533, 785982, 340359, 211457, 565330, 739959, 491207, 598294, \n",
    "#     212840, 585916, 575283, 786004, 545491, 646295, 734862, 353142, 51607,  624800, \n",
    "#     256973, 713142, 536849, 165346, 214062, 685358, 520570, 120444, 685071, 712342, \n",
    "#     484879, 685358, 765239, 658096, 729729, 545046, 507365, 444408, 29568,  168168, \n",
    "#     220269, 238971, 487450, 726061, 696019, 122934, 649598, 350363\n",
    "# ]]"
   ]
  },
  {
   "cell_type": "markdown",
   "metadata": {},
   "source": [
    "---"
   ]
  },
  {
   "cell_type": "markdown",
   "metadata": {},
   "source": [
    "### Removes abbreviations"
   ]
  },
  {
   "cell_type": "code",
   "execution_count": 19,
   "metadata": {},
   "outputs": [],
   "source": [
    "def clean_abbrs(name):\n",
    "    abbrs = ['REF', 'REF.', 'C/', 'S/', 'P/', 'FPS']\n",
    "    to_remove = []\n",
    "    words = name.split()\n",
    "\n",
    "    for word in words:\n",
    "        if word in abbrs:\n",
    "            to_remove.append(word)\n",
    "\n",
    "            try:\n",
    "                to_remove.append(words[words.index(word) + 1])\n",
    "            except:\n",
    "                pass\n",
    "            \n",
    "        elif word.startswith(tuple(abbrs)):\n",
    "            for abbr in abbrs:\n",
    "                if abbr == 'REF' == word[:3] and word[3] != '.' and not word[len(abbr):][0].isdigit():\n",
    "                    break\n",
    "                else:\n",
    "                    to_remove.append(word)\n",
    "\n",
    "    return ' '.join([word for word in words if word not in to_remove])"
   ]
  },
  {
   "cell_type": "code",
   "execution_count": 20,
   "metadata": {},
   "outputs": [],
   "source": [
    "df['clean'] = df['clean'].apply(lambda x: clean_abbrs(x))"
   ]
  },
  {
   "cell_type": "code",
   "execution_count": 21,
   "metadata": {},
   "outputs": [],
   "source": [
    "# # Tested Items\n",
    "# df.loc[[\n",
    "#     507889, 308443, 814522, 708421, 800889, 773057, 671045, 583425, 582548, 700178, \n",
    "#     318441, 318442, 214566, 632491, 480583, 733038, 407674, 658417, 310619, 648318\n",
    "# ]]"
   ]
  },
  {
   "cell_type": "markdown",
   "metadata": {},
   "source": [
    "---"
   ]
  },
  {
   "cell_type": "markdown",
   "metadata": {},
   "source": [
    "### Removes initial digits and characters"
   ]
  },
  {
   "cell_type": "code",
   "execution_count": 22,
   "metadata": {},
   "outputs": [],
   "source": [
    "df['clean'] = df['clean'].apply(lambda x: clean_initial_digits(x))"
   ]
  },
  {
   "cell_type": "code",
   "execution_count": 23,
   "metadata": {},
   "outputs": [],
   "source": [
    "df['clean'] = df['clean'].apply(lambda x: clean_initial_characters(x))"
   ]
  },
  {
   "cell_type": "markdown",
   "metadata": {},
   "source": [
    "---"
   ]
  },
  {
   "cell_type": "markdown",
   "metadata": {},
   "source": [
    "### Removes isolated words"
   ]
  },
  {
   "cell_type": "code",
   "execution_count": 24,
   "metadata": {},
   "outputs": [],
   "source": [
    "def clean_isolated(name):\n",
    "    isolated = [\n",
    "        'CR', 'COMP.', 'COMPR', 'COMPRIMIDOS', \n",
    "        'CAP.', 'CAPS.', 'CAPSULA', 'CAPSULAS',\n",
    "        'CX.', 'CX', 'CAIXA',\n",
    "        '*', '-'\n",
    "    ]\n",
    "    to_remove = []\n",
    "    words = name.split()\n",
    "\n",
    "    for word in words:\n",
    "        if word in isolated:\n",
    "            to_remove.append(word)\n",
    "\n",
    "    return ' '.join([word for word in words if word not in to_remove])"
   ]
  },
  {
   "cell_type": "code",
   "execution_count": 25,
   "metadata": {},
   "outputs": [],
   "source": [
    "df['clean'] = df['clean'].apply(lambda x: clean_isolated(x))"
   ]
  },
  {
   "cell_type": "code",
   "execution_count": 26,
   "metadata": {},
   "outputs": [],
   "source": [
    "# # Tested Items\n",
    "# df.loc[[413099, 208413, 291647, 239129, 416768, 504305, 173425, 804124, 239195, 175181, 634522, 211018]]"
   ]
  },
  {
   "cell_type": "markdown",
   "metadata": {},
   "source": [
    "---"
   ]
  },
  {
   "cell_type": "markdown",
   "metadata": {},
   "source": [
    "### Sets abbreviations"
   ]
  },
  {
   "cell_type": "code",
   "execution_count": 27,
   "metadata": {},
   "outputs": [],
   "source": [
    "def set_abbr(name):\n",
    "    abbrs = {\n",
    "        'SH.': 'SHAMPOO', 'SH': 'SHAMPOO',\n",
    "        'ABS.': 'ABSORVENTE', 'ABS': 'ABSORVENTE',\n",
    "        'SAB.': 'SABONETE', 'SAB': 'SABONETE',\n",
    "        'LIQ.': 'LIQUIDO', 'LIQ': 'LIQUIDO',\n",
    "        'DES.': 'DESODORANTE', 'DES': 'DESODORANTE',\n",
    "        'ESC.': 'ESCOVA', 'ESC': 'ESCOVA',\n",
    "        'LOC.': 'LOCAO', 'LOC': 'LOCAO',\n",
    "        'HID.': 'HIDRATANTE', 'HID': 'HIDRATANTE', \n",
    "        'ESM.': 'ESMALTE', 'ESM': 'ESMALTE',\n",
    "        'PERF.': 'PERFUME', 'PERF': 'PERFUME',\n",
    "        'TRAD.': 'TRADICIONAL', 'TRAD': 'TRADICIONAL',\n",
    "        'COND.': 'CONDICIONADOR',\n",
    "        'COND': 'CONDICIONADOR',\n",
    "        'HIDRAT.': 'HIDRATANTE', 'HIDRAT': 'HIDRATANTE',\n",
    "    }\n",
    "    words = name.split()\n",
    "\n",
    "    for word in words:\n",
    "        if word in abbrs:\n",
    "            words[words.index(word)] = words[words.index(word)].replace(word, abbrs[word])\n",
    "\n",
    "    return ' '.join([word for word in words])"
   ]
  },
  {
   "cell_type": "code",
   "execution_count": 28,
   "metadata": {},
   "outputs": [],
   "source": [
    "df['clean'] = df['clean'].apply(lambda x: set_abbr(x))"
   ]
  },
  {
   "cell_type": "code",
   "execution_count": 37,
   "metadata": {},
   "outputs": [],
   "source": [
    "# # Tested Items\n",
    "# df.loc[[\n",
    "#     648322, 684625, 416792, 66392,  685360, 370427, 607499, 548937, \n",
    "#     295447, 31803,  638638, 698653, 60724,  550665, 654800, 680490, \n",
    "#     652319, 703964, 525718, 31137,  675719, 639881, 667164, 312965, 666810\n",
    "# ]]"
   ]
  },
  {
   "cell_type": "markdown",
   "metadata": {},
   "source": [
    "---"
   ]
  },
  {
   "cell_type": "markdown",
   "metadata": {},
   "source": [
    "### Creates a CSV file with cleaned names"
   ]
  },
  {
   "cell_type": "code",
   "execution_count": 30,
   "metadata": {},
   "outputs": [],
   "source": [
    "df['clean'] = df['clean'].str.strip()"
   ]
  },
  {
   "cell_type": "code",
   "execution_count": 31,
   "metadata": {},
   "outputs": [],
   "source": [
    "df['had_changes'] = df['clean'] != df['name']"
   ]
  },
  {
   "cell_type": "code",
   "execution_count": 32,
   "metadata": {},
   "outputs": [],
   "source": [
    "df['num_words'] = df['clean'].apply(lambda x: len(str(x).split()))"
   ]
  },
  {
   "cell_type": "code",
   "execution_count": 33,
   "metadata": {},
   "outputs": [],
   "source": [
    "df.sort_values(by = 'clean', inplace = True)"
   ]
  },
  {
   "cell_type": "code",
   "execution_count": 34,
   "metadata": {},
   "outputs": [],
   "source": [
    "df.to_csv('outputs/clean.csv', index = False)"
   ]
  },
  {
   "cell_type": "markdown",
   "metadata": {},
   "source": [
    "---"
   ]
  },
  {
   "cell_type": "markdown",
   "metadata": {},
   "source": [
    "### Metrics"
   ]
  },
  {
   "cell_type": "code",
   "execution_count": 35,
   "metadata": {},
   "outputs": [
    {
     "name": "stdout",
     "output_type": "stream",
     "text": [
      "Items\n",
      "-----\n",
      "Total: 306052\n",
      "Changed: 251527\n",
      "Not Changed: 54525\n"
     ]
    }
   ],
   "source": [
    "print(f\"Items\\n{'-' * len('Items')}\")\n",
    "print(f\"Total: {df.shape[0]}\")\n",
    "print(f\"Changed: {len(df[df['had_changes'] == True])}\")\n",
    "print(f\"Not Changed: {len(df[df['had_changes'] == False])}\")\n",
    "\n",
    "# TOTAL     CHANGED     NOT CHANGED\n",
    "# 306.052   36.829      269.223\n",
    "# 306.052   91.447      214.605\n",
    "# 306.052   232.885     73.167\n",
    "# 306.052   234.920     71.132\n",
    "# 306.052   243.443     62.609\n",
    "# 306.052   251.527     54.525"
   ]
  },
  {
   "cell_type": "code",
   "execution_count": 36,
   "metadata": {},
   "outputs": [
    {
     "name": "stdout",
     "output_type": "stream",
     "text": [
      "Unique Items\n",
      "------------\n",
      "Original dataset: 306051\n",
      "Cleaned dataset: 247646\n",
      "Unified items: 58405\n"
     ]
    }
   ],
   "source": [
    "print(f\"Unique Items\\n{'-' * len('Unique Items')}\")\n",
    "print(f\"Original dataset: {df['name'].nunique()}\")\n",
    "print(f\"Cleaned dataset: {df['clean'].nunique()}\")\n",
    "print(f\"Unified items: {df['name'].nunique() - df['clean'].nunique()}\")\n",
    "\n",
    "# ORIGINAL      CLEANED     UNIFIED\n",
    "# 306.051       303.710     2.341\n",
    "# 306.051       297.114     8.937\n",
    "# 306.051       259.696     46.355\n",
    "# 306.051       256.832     49.219\n",
    "# 306.051       249.716     56.335\n",
    "# 306.051       247.646     58.405"
   ]
  }
 ],
 "metadata": {
  "interpreter": {
   "hash": "acb11136433e1efb98de00a145e85b8bf0160d48e03fcada26d6be9bd04c260e"
  },
  "kernelspec": {
   "display_name": "Python 3.10.4 ('.env': venv)",
   "language": "python",
   "name": "python3"
  },
  "language_info": {
   "codemirror_mode": {
    "name": "ipython",
    "version": 3
   },
   "file_extension": ".py",
   "mimetype": "text/x-python",
   "name": "python",
   "nbconvert_exporter": "python",
   "pygments_lexer": "ipython3",
   "version": "3.10.4"
  },
  "orig_nbformat": 4
 },
 "nbformat": 4,
 "nbformat_minor": 2
}
