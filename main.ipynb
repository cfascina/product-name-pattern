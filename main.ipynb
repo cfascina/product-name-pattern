{
 "cells": [
  {
   "cell_type": "code",
   "execution_count": 1,
   "metadata": {},
   "outputs": [],
   "source": [
    "import pandas as pd"
   ]
  },
  {
   "cell_type": "code",
   "execution_count": 2,
   "metadata": {},
   "outputs": [],
   "source": [
    "df = pd.read_csv('inputs/data_storeproduct_202208111119.csv', usecols = ['id', 'name'])"
   ]
  },
  {
   "cell_type": "code",
   "execution_count": 3,
   "metadata": {},
   "outputs": [
    {
     "data": {
      "text/plain": [
       "(820512, 2)"
      ]
     },
     "execution_count": 3,
     "metadata": {},
     "output_type": "execute_result"
    }
   ],
   "source": [
    "df.shape"
   ]
  },
  {
   "cell_type": "code",
   "execution_count": 4,
   "metadata": {},
   "outputs": [],
   "source": [
    "df.drop_duplicates(subset = 'name', inplace = True)"
   ]
  },
  {
   "cell_type": "code",
   "execution_count": 5,
   "metadata": {},
   "outputs": [
    {
     "data": {
      "text/plain": [
       "(306052, 2)"
      ]
     },
     "execution_count": 5,
     "metadata": {},
     "output_type": "execute_result"
    }
   ],
   "source": [
    "df.shape"
   ]
  },
  {
   "cell_type": "code",
   "execution_count": 6,
   "metadata": {},
   "outputs": [],
   "source": [
    "df['name'] = df['name'].str.upper()"
   ]
  },
  {
   "cell_type": "code",
   "execution_count": 7,
   "metadata": {},
   "outputs": [],
   "source": [
    "df['clean'] = df['name']"
   ]
  },
  {
   "cell_type": "code",
   "execution_count": 8,
   "metadata": {},
   "outputs": [],
   "source": [
    "def remove_pairs(product, element):\n",
    "    words = product.split()\n",
    "\n",
    "    for k, v in enumerate(words):\n",
    "        if v == element:\n",
    "            try:\n",
    "                words.remove(words[k + 1])\n",
    "                words.remove(v)\n",
    "            except:\n",
    "                pass\n",
    "                \n",
    "    return ' '.join(words)"
   ]
  },
  {
   "cell_type": "code",
   "execution_count": 9,
   "metadata": {},
   "outputs": [],
   "source": [
    "predecessors = ['REF', 'C/', 'S/']"
   ]
  },
  {
   "cell_type": "code",
   "execution_count": 10,
   "metadata": {},
   "outputs": [],
   "source": [
    "for i in predecessors:\n",
    "    df['clean'] = df['clean'].apply(lambda x: remove_pairs(x, i))"
   ]
  },
  {
   "cell_type": "code",
   "execution_count": 11,
   "metadata": {},
   "outputs": [
    {
     "data": {
      "text/plain": [
       "['ESP', 'MIC', 'CIEX', '2,5CMX4,5M']"
      ]
     },
     "execution_count": 11,
     "metadata": {},
     "output_type": "execute_result"
    }
   ],
   "source": [
    "'ESP MIC CIEX 2,5CMX4,5M'.split()"
   ]
  },
  {
   "cell_type": "code",
   "execution_count": 12,
   "metadata": {},
   "outputs": [],
   "source": [
    "def remove_metrics(product):\n",
    "    to_remove = []\n",
    "    \n",
    "    for word in product.split():\n",
    "        if word[0].isdigit() and 'X' in word and word[-1] == 'M' :\n",
    "            to_remove.append(word)\n",
    "\n",
    "    if len(to_remove) > 0:\n",
    "        return ''. join([product.replace(x, '') for x in to_remove])\n",
    "    \n",
    "    return product"
   ]
  },
  {
   "cell_type": "code",
   "execution_count": 13,
   "metadata": {},
   "outputs": [],
   "source": [
    "df['clean'] = df['clean'].apply(lambda x: remove_metrics(x))"
   ]
  },
  {
   "cell_type": "code",
   "execution_count": 14,
   "metadata": {},
   "outputs": [],
   "source": [
    "df.to_csv('outputs/clean.csv', index = False)"
   ]
  },
  {
   "cell_type": "code",
   "execution_count": 15,
   "metadata": {},
   "outputs": [
    {
     "data": {
      "text/html": [
       "<div>\n",
       "<style scoped>\n",
       "    .dataframe tbody tr th:only-of-type {\n",
       "        vertical-align: middle;\n",
       "    }\n",
       "\n",
       "    .dataframe tbody tr th {\n",
       "        vertical-align: top;\n",
       "    }\n",
       "\n",
       "    .dataframe thead th {\n",
       "        text-align: right;\n",
       "    }\n",
       "</style>\n",
       "<table border=\"1\" class=\"dataframe\">\n",
       "  <thead>\n",
       "    <tr style=\"text-align: right;\">\n",
       "      <th></th>\n",
       "      <th>id</th>\n",
       "      <th>name</th>\n",
       "      <th>clean</th>\n",
       "    </tr>\n",
       "  </thead>\n",
       "  <tbody>\n",
       "    <tr>\n",
       "      <th>10</th>\n",
       "      <td>458515</td>\n",
       "      <td>BITUFO - PASSA FIO WAY C/ 30</td>\n",
       "      <td>BITUFO - PASSA FIO WAY</td>\n",
       "    </tr>\n",
       "    <tr>\n",
       "      <th>1371</th>\n",
       "      <td>355721</td>\n",
       "      <td>NOPLAK S/ ALCOOL 250ML</td>\n",
       "      <td>NOPLAK 250ML</td>\n",
       "    </tr>\n",
       "    <tr>\n",
       "      <th>1526</th>\n",
       "      <td>356920</td>\n",
       "      <td>KIT MAMADEIRA COLORS BICO RED REF 926 (CEFISA)</td>\n",
       "      <td>KIT MAMADEIRA COLORS BICO RED (CEFISA)</td>\n",
       "    </tr>\n",
       "    <tr>\n",
       "      <th>3542</th>\n",
       "      <td>460190</td>\n",
       "      <td>ESP MIC CIEX 2,5CMX4,5M</td>\n",
       "      <td>ESP MIC CIEX</td>\n",
       "    </tr>\n",
       "  </tbody>\n",
       "</table>\n",
       "</div>"
      ],
      "text/plain": [
       "          id                                            name  \\\n",
       "10    458515                    BITUFO - PASSA FIO WAY C/ 30   \n",
       "1371  355721                          NOPLAK S/ ALCOOL 250ML   \n",
       "1526  356920  KIT MAMADEIRA COLORS BICO RED REF 926 (CEFISA)   \n",
       "3542  460190                         ESP MIC CIEX 2,5CMX4,5M   \n",
       "\n",
       "                                       clean  \n",
       "10                    BITUFO - PASSA FIO WAY  \n",
       "1371                            NOPLAK 250ML  \n",
       "1526  KIT MAMADEIRA COLORS BICO RED (CEFISA)  \n",
       "3542                           ESP MIC CIEX   "
      ]
     },
     "execution_count": 15,
     "metadata": {},
     "output_type": "execute_result"
    }
   ],
   "source": [
    "df[df['id'].isin([458515, 355721, 356920, 460190])]"
   ]
  },
  {
   "cell_type": "markdown",
   "metadata": {},
   "source": [
    "---"
   ]
  },
  {
   "cell_type": "code",
   "execution_count": 16,
   "metadata": {},
   "outputs": [],
   "source": [
    "# def remove_startswith(name):\n",
    "#     return lambda words: words.replace(''.join([x for x in words.split(' ') if x.startswith(name)]), '')"
   ]
  },
  {
   "cell_type": "code",
   "execution_count": 17,
   "metadata": {},
   "outputs": [],
   "source": [
    "# startswith_ = ['(', 'REF', 'C/', 'S/', 'INTRAV', 'FPS']"
   ]
  },
  {
   "cell_type": "code",
   "execution_count": 18,
   "metadata": {},
   "outputs": [],
   "source": [
    "# for name in startswith_:\n",
    "#     df['cleaned'] = df['cleaned'].apply(remove_startswith(name))"
   ]
  },
  {
   "cell_type": "code",
   "execution_count": 19,
   "metadata": {},
   "outputs": [],
   "source": [
    "# def remove_endswith(name, numbers):\n",
    "#     return lambda words: words.replace(''.join([x for x in words.split(' ') if x.endswith(name) and x[:numbers].isdigit()]), '')"
   ]
  },
  {
   "cell_type": "code",
   "execution_count": 20,
   "metadata": {},
   "outputs": [],
   "source": [
    "# endswith_ = {\n",
    "#     'G':    -len('G'),\n",
    "#     'L':    -len('L'),\n",
    "#     'UN':   -len('UN'),\n",
    "#     'ML':   -len('ML'),\n",
    "#     'GR':   -len('GR'),\n",
    "#     'CPS':  -len('CPS'),\n",
    "#     'VOL':  -len('VOL'),\n",
    "#     'CAP':  -len('CAP')\n",
    "# }"
   ]
  },
  {
   "cell_type": "code",
   "execution_count": 21,
   "metadata": {},
   "outputs": [],
   "source": [
    "# for k, v in endswith_.items():\n",
    "#     df['cleaned'] = df['cleaned'].apply(remove_endswith(k, v))"
   ]
  },
  {
   "cell_type": "code",
   "execution_count": 22,
   "metadata": {},
   "outputs": [],
   "source": [
    "# df['cleaned'] = df['cleaned'].str.strip()"
   ]
  },
  {
   "cell_type": "code",
   "execution_count": 23,
   "metadata": {},
   "outputs": [],
   "source": [
    "# df['num_words'] = df['cleaned'].apply(lambda x: len(str(x).split(' ')))"
   ]
  },
  {
   "cell_type": "code",
   "execution_count": 24,
   "metadata": {},
   "outputs": [],
   "source": [
    "# Criar coluna indicando quais produtos tiveram o nome modificado"
   ]
  },
  {
   "cell_type": "code",
   "execution_count": 25,
   "metadata": {},
   "outputs": [],
   "source": [
    "# df[\n",
    "#   df['id'].isin([\n",
    "#        52,  84,  48,  57,  58,  60,  76,  94, 77, 82, 83, 88, \n",
    "#       122, 171, 174, 118, 102, 106, 116, \n",
    "#     15876 \n",
    "# ])].sort_values(by = 'id')"
   ]
  },
  {
   "cell_type": "code",
   "execution_count": 26,
   "metadata": {},
   "outputs": [],
   "source": [
    "# df.sort_values(by = 'cleaned', inplace = True)"
   ]
  },
  {
   "cell_type": "code",
   "execution_count": 27,
   "metadata": {},
   "outputs": [],
   "source": [
    "# df.to_csv('output.csv')"
   ]
  },
  {
   "cell_type": "code",
   "execution_count": 28,
   "metadata": {},
   "outputs": [],
   "source": [
    "# Metrics:\n",
    "# 48869 - df['cleaned'].nunique() = 1.030"
   ]
  },
  {
   "cell_type": "markdown",
   "metadata": {},
   "source": [
    "To replace:"
   ]
  },
  {
   "cell_type": "code",
   "execution_count": 29,
   "metadata": {},
   "outputs": [],
   "source": [
    "# dict_ = {\n",
    "#     'ABS': 'ABSORVENTE',\n",
    "#     'ESP': 'ESPARADRAPO',\n",
    "#     'SAB': 'SABONETE',\n",
    "#     'DES': 'DESODORANTE',\n",
    "#     'ESC': 'ESCOVA',\n",
    "#     'LOC': 'LOCAO',\n",
    "#     'TRAD': 'TRADICIONAL',\n",
    "#     'CURAT': 'CURATIVO',\n",
    "# }"
   ]
  },
  {
   "cell_type": "code",
   "execution_count": 30,
   "metadata": {},
   "outputs": [],
   "source": [
    "unique_ = ['ML', 'PET']"
   ]
  }
 ],
 "metadata": {
  "interpreter": {
   "hash": "acb11136433e1efb98de00a145e85b8bf0160d48e03fcada26d6be9bd04c260e"
  },
  "kernelspec": {
   "display_name": "Python 3.10.4 ('.env': venv)",
   "language": "python",
   "name": "python3"
  },
  "language_info": {
   "codemirror_mode": {
    "name": "ipython",
    "version": 3
   },
   "file_extension": ".py",
   "mimetype": "text/x-python",
   "name": "python",
   "nbconvert_exporter": "python",
   "pygments_lexer": "ipython3",
   "version": "3.10.4"
  },
  "orig_nbformat": 4
 },
 "nbformat": 4,
 "nbformat_minor": 2
}
