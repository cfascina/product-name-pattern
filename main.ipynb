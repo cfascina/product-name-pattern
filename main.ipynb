{
 "cells": [
  {
   "cell_type": "code",
   "execution_count": 70,
   "metadata": {},
   "outputs": [],
   "source": [
    "import pandas as pd"
   ]
  },
  {
   "cell_type": "code",
   "execution_count": 71,
   "metadata": {},
   "outputs": [],
   "source": [
    "df = pd.read_csv('inputs/data_storeproduct_202208111119.csv', usecols = ['id', 'name'])"
   ]
  },
  {
   "cell_type": "code",
   "execution_count": 72,
   "metadata": {},
   "outputs": [
    {
     "data": {
      "text/plain": [
       "(820512, 2)"
      ]
     },
     "execution_count": 72,
     "metadata": {},
     "output_type": "execute_result"
    }
   ],
   "source": [
    "df.shape"
   ]
  },
  {
   "cell_type": "code",
   "execution_count": 73,
   "metadata": {},
   "outputs": [],
   "source": [
    "df.drop_duplicates(subset = 'name', inplace = True)"
   ]
  },
  {
   "cell_type": "code",
   "execution_count": 74,
   "metadata": {},
   "outputs": [
    {
     "data": {
      "text/plain": [
       "(306052, 2)"
      ]
     },
     "execution_count": 74,
     "metadata": {},
     "output_type": "execute_result"
    }
   ],
   "source": [
    "df.shape"
   ]
  },
  {
   "cell_type": "code",
   "execution_count": 75,
   "metadata": {},
   "outputs": [],
   "source": [
    "df['name'] = df['name'].str.upper()"
   ]
  },
  {
   "cell_type": "code",
   "execution_count": 76,
   "metadata": {},
   "outputs": [],
   "source": [
    "df['clean'] = df['name']"
   ]
  },
  {
   "cell_type": "code",
   "execution_count": 78,
   "metadata": {},
   "outputs": [],
   "source": [
    "df['clean'] = \\\n",
    "    df['clean'].apply(\n",
    "        lambda words: \n",
    "            ' '.join(\n",
    "            [word for word in words.split() if not (word.startswith('(') and word.endswith(')'))]\n",
    "        )\n",
    "    )    "
   ]
  },
  {
   "cell_type": "code",
   "execution_count": 79,
   "metadata": {},
   "outputs": [],
   "source": [
    "def remove_pairs(name, pattern):\n",
    "    words = name.split()\n",
    "\n",
    "    for k, v in enumerate(words):\n",
    "        if v == pattern:\n",
    "            try:\n",
    "                words.remove(words[k + 1])\n",
    "                words.remove(v)\n",
    "            except:\n",
    "                pass\n",
    "                \n",
    "    return ' '.join(words)"
   ]
  },
  {
   "cell_type": "code",
   "execution_count": 80,
   "metadata": {},
   "outputs": [],
   "source": [
    "patterns = ['REF', 'FPS', 'C/', 'S/', 'CP']"
   ]
  },
  {
   "cell_type": "code",
   "execution_count": 81,
   "metadata": {},
   "outputs": [],
   "source": [
    "for i in patterns:\n",
    "    df['clean'] = df['clean'].apply(lambda x: remove_pairs(x, i))"
   ]
  },
  {
   "cell_type": "code",
   "execution_count": 82,
   "metadata": {},
   "outputs": [],
   "source": [
    "def remove_metrics(name):\n",
    "    to_remove = []\n",
    "    \n",
    "    for word in name.split():\n",
    "        if word[0].isdigit() and 'X' in word and word[-1] == 'M' :\n",
    "            to_remove.append(word)\n",
    "\n",
    "    if len(to_remove) > 0:\n",
    "        return ''. join([name.replace(x, '') for x in to_remove])\n",
    "    \n",
    "    return name"
   ]
  },
  {
   "cell_type": "code",
   "execution_count": 83,
   "metadata": {},
   "outputs": [],
   "source": [
    "df['clean'] = df['clean'].apply(lambda x: remove_metrics(x))"
   ]
  },
  {
   "cell_type": "code",
   "execution_count": 84,
   "metadata": {},
   "outputs": [],
   "source": [
    "def remove_startswith(pattern):\n",
    "    return lambda words: ' '.join([word for word in words.split() if not word.startswith(pattern)])"
   ]
  },
  {
   "cell_type": "code",
   "execution_count": 85,
   "metadata": {},
   "outputs": [],
   "source": [
    "patterns = ['C/', 'S/', 'FPS']"
   ]
  },
  {
   "cell_type": "code",
   "execution_count": 86,
   "metadata": {},
   "outputs": [],
   "source": [
    "for i in patterns:\n",
    "    df['clean'] = df['clean'].apply(remove_startswith(i))"
   ]
  },
  {
   "cell_type": "code",
   "execution_count": 99,
   "metadata": {},
   "outputs": [],
   "source": [
    "def remove_endswith(pattern):\n",
    "    return lambda words: words.replace(''.join([x for x in words.split() if x.endswith(pattern) and x[:-len(pattern)].isdigit()]), '')"
   ]
  },
  {
   "cell_type": "code",
   "execution_count": 100,
   "metadata": {},
   "outputs": [],
   "source": [
    "endswith_ = ['G', 'L', 'ML', 'MG' , 'UN', 'GR', 'CP', 'CPS', 'VOL', 'CAP', 'UNID', 'UNID.', 'KG']"
   ]
  },
  {
   "cell_type": "code",
   "execution_count": 101,
   "metadata": {},
   "outputs": [],
   "source": [
    "for i in endswith_:\n",
    "    df['clean'] = df['clean'].apply(remove_endswith(i))"
   ]
  },
  {
   "cell_type": "code",
   "execution_count": 103,
   "metadata": {},
   "outputs": [],
   "source": [
    "df['clean'] = df['clean'].str.strip()"
   ]
  },
  {
   "cell_type": "code",
   "execution_count": 104,
   "metadata": {},
   "outputs": [],
   "source": [
    "df['had_changes'] = df['clean'] != df['name']"
   ]
  },
  {
   "cell_type": "code",
   "execution_count": 105,
   "metadata": {},
   "outputs": [],
   "source": [
    "df['num_words'] = df['clean'].apply(lambda x: len(str(x).split()))"
   ]
  },
  {
   "cell_type": "code",
   "execution_count": 93,
   "metadata": {},
   "outputs": [],
   "source": [
    "df.to_csv('outputs/clean.csv', index = False)"
   ]
  },
  {
   "cell_type": "code",
   "execution_count": 107,
   "metadata": {},
   "outputs": [
    {
     "name": "stdout",
     "output_type": "stream",
     "text": [
      "Total items: 306052\n",
      "Items with changes: 193969\n",
      "Items without changes: 112083\n"
     ]
    }
   ],
   "source": [
    "print(f\"Total items: {df.shape[0]}\")\n",
    "print(f\"Items with changes: {len(df[df['had_changes'] == True])}\")\n",
    "print(f\"Items without changes: {len(df[df['had_changes'] == False])}\")"
   ]
  },
  {
   "cell_type": "code",
   "execution_count": 108,
   "metadata": {},
   "outputs": [
    {
     "data": {
      "text/plain": [
       "281252"
      ]
     },
     "execution_count": 108,
     "metadata": {},
     "output_type": "execute_result"
    }
   ],
   "source": [
    "df['clean'].nunique()"
   ]
  },
  {
   "cell_type": "code",
   "execution_count": 106,
   "metadata": {},
   "outputs": [
    {
     "data": {
      "text/html": [
       "<div>\n",
       "<style scoped>\n",
       "    .dataframe tbody tr th:only-of-type {\n",
       "        vertical-align: middle;\n",
       "    }\n",
       "\n",
       "    .dataframe tbody tr th {\n",
       "        vertical-align: top;\n",
       "    }\n",
       "\n",
       "    .dataframe thead th {\n",
       "        text-align: right;\n",
       "    }\n",
       "</style>\n",
       "<table border=\"1\" class=\"dataframe\">\n",
       "  <thead>\n",
       "    <tr style=\"text-align: right;\">\n",
       "      <th></th>\n",
       "      <th>id</th>\n",
       "      <th>name</th>\n",
       "      <th>clean</th>\n",
       "      <th>had_changes</th>\n",
       "      <th>num_words</th>\n",
       "    </tr>\n",
       "  </thead>\n",
       "  <tbody>\n",
       "    <tr>\n",
       "      <th>10</th>\n",
       "      <td>458515</td>\n",
       "      <td>BITUFO - PASSA FIO WAY C/ 30</td>\n",
       "      <td>BITUFO - PASSA FIO WAY</td>\n",
       "      <td>True</td>\n",
       "      <td>5</td>\n",
       "    </tr>\n",
       "    <tr>\n",
       "      <th>1371</th>\n",
       "      <td>355721</td>\n",
       "      <td>NOPLAK S/ ALCOOL 250ML</td>\n",
       "      <td>NOPLAK</td>\n",
       "      <td>True</td>\n",
       "      <td>1</td>\n",
       "    </tr>\n",
       "    <tr>\n",
       "      <th>1526</th>\n",
       "      <td>356920</td>\n",
       "      <td>KIT MAMADEIRA COLORS BICO RED REF 926 (CEFISA)</td>\n",
       "      <td>KIT MAMADEIRA COLORS BICO RED</td>\n",
       "      <td>True</td>\n",
       "      <td>5</td>\n",
       "    </tr>\n",
       "    <tr>\n",
       "      <th>177283</th>\n",
       "      <td>56645</td>\n",
       "      <td>AVENE EMULSAO SOLAR TS FPS 70 40G</td>\n",
       "      <td>AVENE EMULSAO SOLAR TS</td>\n",
       "      <td>True</td>\n",
       "      <td>4</td>\n",
       "    </tr>\n",
       "    <tr>\n",
       "      <th>2252</th>\n",
       "      <td>376083</td>\n",
       "      <td>COD PAR 12CP</td>\n",
       "      <td>COD PAR</td>\n",
       "      <td>True</td>\n",
       "      <td>2</td>\n",
       "    </tr>\n",
       "    <tr>\n",
       "      <th>3542</th>\n",
       "      <td>460190</td>\n",
       "      <td>ESP MIC CIEX 2,5CMX4,5M</td>\n",
       "      <td>ESP MIC CIEX</td>\n",
       "      <td>True</td>\n",
       "      <td>3</td>\n",
       "    </tr>\n",
       "    <tr>\n",
       "      <th>210239</th>\n",
       "      <td>268953</td>\n",
       "      <td>ESPARADRAPO  25MMX4,5MM NEXCARE</td>\n",
       "      <td>ESPARADRAPO NEXCARE</td>\n",
       "      <td>True</td>\n",
       "      <td>2</td>\n",
       "    </tr>\n",
       "    <tr>\n",
       "      <th>12</th>\n",
       "      <td>458516</td>\n",
       "      <td>ISABABY - HAST FLEX BABY C/50</td>\n",
       "      <td>ISABABY - HAST FLEX BABY</td>\n",
       "      <td>True</td>\n",
       "      <td>5</td>\n",
       "    </tr>\n",
       "    <tr>\n",
       "      <th>790</th>\n",
       "      <td>356086</td>\n",
       "      <td>ABS INTIMUS NOT SUAVE C/ABAS C/16 UN</td>\n",
       "      <td>ABS INTIMUS NOT SUAVE UN</td>\n",
       "      <td>True</td>\n",
       "      <td>5</td>\n",
       "    </tr>\n",
       "    <tr>\n",
       "      <th>2018</th>\n",
       "      <td>357133</td>\n",
       "      <td>TENYS PE BARUEL AEROSOL S/PERFUME 110G</td>\n",
       "      <td>TENYS PE BARUEL AEROSOL</td>\n",
       "      <td>True</td>\n",
       "      <td>4</td>\n",
       "    </tr>\n",
       "    <tr>\n",
       "      <th>208178</th>\n",
       "      <td>311398</td>\n",
       "      <td>EPISOL HOMEM FPS45 60G</td>\n",
       "      <td>EPISOL HOMEM</td>\n",
       "      <td>True</td>\n",
       "      <td>2</td>\n",
       "    </tr>\n",
       "    <tr>\n",
       "      <th>8</th>\n",
       "      <td>458513</td>\n",
       "      <td>CHOC TWIX 15GR</td>\n",
       "      <td>CHOC TWIX</td>\n",
       "      <td>True</td>\n",
       "      <td>2</td>\n",
       "    </tr>\n",
       "    <tr>\n",
       "      <th>65</th>\n",
       "      <td>375785</td>\n",
       "      <td>COENZIMA Q10 500MG 60CPS</td>\n",
       "      <td>COENZIMA Q10</td>\n",
       "      <td>True</td>\n",
       "      <td>2</td>\n",
       "    </tr>\n",
       "    <tr>\n",
       "      <th>3810</th>\n",
       "      <td>208009</td>\n",
       "      <td>BAND AID VARIADOS C 30UNID</td>\n",
       "      <td>BAND AID VARIADOS C</td>\n",
       "      <td>True</td>\n",
       "      <td>4</td>\n",
       "    </tr>\n",
       "    <tr>\n",
       "      <th>4262</th>\n",
       "      <td>210052</td>\n",
       "      <td>AGUA OX.BEIRA ALTA 20VOL</td>\n",
       "      <td>AGUA OX.BEIRA ALTA</td>\n",
       "      <td>True</td>\n",
       "      <td>3</td>\n",
       "    </tr>\n",
       "    <tr>\n",
       "      <th>29601</th>\n",
       "      <td>894356</td>\n",
       "      <td>BAND AID SKIN FLEX 25UNID.</td>\n",
       "      <td>BAND AID SKIN FLEX</td>\n",
       "      <td>True</td>\n",
       "      <td>4</td>\n",
       "    </tr>\n",
       "    <tr>\n",
       "      <th>54775</th>\n",
       "      <td>347881</td>\n",
       "      <td>MULTIGRIP BLIST 10CAP</td>\n",
       "      <td>MULTIGRIP BLIST</td>\n",
       "      <td>True</td>\n",
       "      <td>2</td>\n",
       "    </tr>\n",
       "    <tr>\n",
       "      <th>210436</th>\n",
       "      <td>212540</td>\n",
       "      <td>FRESUBIN HP ENERGY 1000ML</td>\n",
       "      <td>FRESUBIN HP ENERGY</td>\n",
       "      <td>True</td>\n",
       "      <td>3</td>\n",
       "    </tr>\n",
       "    <tr>\n",
       "      <th>211906</th>\n",
       "      <td>61903</td>\n",
       "      <td>LAVIE ALCOOL GEL 70 460G</td>\n",
       "      <td>LAVIE ALCOOL GEL 70</td>\n",
       "      <td>True</td>\n",
       "      <td>4</td>\n",
       "    </tr>\n",
       "    <tr>\n",
       "      <th>213106</th>\n",
       "      <td>62840</td>\n",
       "      <td>ENERGETICO GFA 1L 6UN</td>\n",
       "      <td>ENERGETICO GFA</td>\n",
       "      <td>True</td>\n",
       "      <td>2</td>\n",
       "    </tr>\n",
       "    <tr>\n",
       "      <th>816883</th>\n",
       "      <td>381777</td>\n",
       "      <td>AGUA PERFUMADA WOOD 1L</td>\n",
       "      <td>AGUA PERFUMADA WOOD</td>\n",
       "      <td>True</td>\n",
       "      <td>3</td>\n",
       "    </tr>\n",
       "    <tr>\n",
       "      <th>34</th>\n",
       "      <td>459312</td>\n",
       "      <td>INTEGRALMEDICA - SINISTER MASS POUCH 3KG VITAM...</td>\n",
       "      <td>INTEGRALMEDICA - SINISTER MASS POUCH  VITAMINA...</td>\n",
       "      <td>True</td>\n",
       "      <td>8</td>\n",
       "    </tr>\n",
       "    <tr>\n",
       "      <th>820265</th>\n",
       "      <td>456153</td>\n",
       "      <td>(PSICO) ESCITALOPRAM 10MG 30CP (C1) (TEUTO)</td>\n",
       "      <td>ESCITALOPRAM</td>\n",
       "      <td>True</td>\n",
       "      <td>1</td>\n",
       "    </tr>\n",
       "  </tbody>\n",
       "</table>\n",
       "</div>"
      ],
      "text/plain": [
       "            id                                               name  \\\n",
       "10      458515                       BITUFO - PASSA FIO WAY C/ 30   \n",
       "1371    355721                             NOPLAK S/ ALCOOL 250ML   \n",
       "1526    356920     KIT MAMADEIRA COLORS BICO RED REF 926 (CEFISA)   \n",
       "177283   56645                  AVENE EMULSAO SOLAR TS FPS 70 40G   \n",
       "2252    376083                                       COD PAR 12CP   \n",
       "3542    460190                            ESP MIC CIEX 2,5CMX4,5M   \n",
       "210239  268953                    ESPARADRAPO  25MMX4,5MM NEXCARE   \n",
       "12      458516                      ISABABY - HAST FLEX BABY C/50   \n",
       "790     356086               ABS INTIMUS NOT SUAVE C/ABAS C/16 UN   \n",
       "2018    357133             TENYS PE BARUEL AEROSOL S/PERFUME 110G   \n",
       "208178  311398                             EPISOL HOMEM FPS45 60G   \n",
       "8       458513                                     CHOC TWIX 15GR   \n",
       "65      375785                           COENZIMA Q10 500MG 60CPS   \n",
       "3810    208009                         BAND AID VARIADOS C 30UNID   \n",
       "4262    210052                           AGUA OX.BEIRA ALTA 20VOL   \n",
       "29601   894356                         BAND AID SKIN FLEX 25UNID.   \n",
       "54775   347881                              MULTIGRIP BLIST 10CAP   \n",
       "210436  212540                          FRESUBIN HP ENERGY 1000ML   \n",
       "211906   61903                           LAVIE ALCOOL GEL 70 460G   \n",
       "213106   62840                              ENERGETICO GFA 1L 6UN   \n",
       "816883  381777                             AGUA PERFUMADA WOOD 1L   \n",
       "34      459312  INTEGRALMEDICA - SINISTER MASS POUCH 3KG VITAM...   \n",
       "820265  456153        (PSICO) ESCITALOPRAM 10MG 30CP (C1) (TEUTO)   \n",
       "\n",
       "                                                    clean  had_changes  \\\n",
       "10                                 BITUFO - PASSA FIO WAY         True   \n",
       "1371                                               NOPLAK         True   \n",
       "1526                        KIT MAMADEIRA COLORS BICO RED         True   \n",
       "177283                             AVENE EMULSAO SOLAR TS         True   \n",
       "2252                                              COD PAR         True   \n",
       "3542                                         ESP MIC CIEX         True   \n",
       "210239                                ESPARADRAPO NEXCARE         True   \n",
       "12                               ISABABY - HAST FLEX BABY         True   \n",
       "790                              ABS INTIMUS NOT SUAVE UN         True   \n",
       "2018                              TENYS PE BARUEL AEROSOL         True   \n",
       "208178                                       EPISOL HOMEM         True   \n",
       "8                                               CHOC TWIX         True   \n",
       "65                                           COENZIMA Q10         True   \n",
       "3810                                  BAND AID VARIADOS C         True   \n",
       "4262                                   AGUA OX.BEIRA ALTA         True   \n",
       "29601                                  BAND AID SKIN FLEX         True   \n",
       "54775                                     MULTIGRIP BLIST         True   \n",
       "210436                                 FRESUBIN HP ENERGY         True   \n",
       "211906                                LAVIE ALCOOL GEL 70         True   \n",
       "213106                                     ENERGETICO GFA         True   \n",
       "816883                                AGUA PERFUMADA WOOD         True   \n",
       "34      INTEGRALMEDICA - SINISTER MASS POUCH  VITAMINA...         True   \n",
       "820265                                       ESCITALOPRAM         True   \n",
       "\n",
       "        num_words  \n",
       "10              5  \n",
       "1371            1  \n",
       "1526            5  \n",
       "177283          4  \n",
       "2252            2  \n",
       "3542            3  \n",
       "210239          2  \n",
       "12              5  \n",
       "790             5  \n",
       "2018            4  \n",
       "208178          2  \n",
       "8               2  \n",
       "65              2  \n",
       "3810            4  \n",
       "4262            3  \n",
       "29601           4  \n",
       "54775           2  \n",
       "210436          3  \n",
       "211906          4  \n",
       "213106          2  \n",
       "816883          3  \n",
       "34              8  \n",
       "820265          1  "
      ]
     },
     "execution_count": 106,
     "metadata": {},
     "output_type": "execute_result"
    }
   ],
   "source": [
    "df.loc[[\n",
    "    10, 1371, 1526, 177283, 2252, # remove_pairs()\n",
    "    3542, 210239, # remove_metrics() \n",
    "    12, 790, 2018, 208178, # remove_startswith()\n",
    "    8, 65, 3810, 4262, 29601, 54775, 210436, 211906, 213106, 816883, 34, # remove_endswith()\n",
    "    820265, # lambda x: x.startswith('(') and x.endswith('(') \n",
    "]]"
   ]
  },
  {
   "cell_type": "markdown",
   "metadata": {},
   "source": [
    "---"
   ]
  },
  {
   "cell_type": "code",
   "execution_count": 97,
   "metadata": {},
   "outputs": [
    {
     "data": {
      "text/html": [
       "<div>\n",
       "<style scoped>\n",
       "    .dataframe tbody tr th:only-of-type {\n",
       "        vertical-align: middle;\n",
       "    }\n",
       "\n",
       "    .dataframe tbody tr th {\n",
       "        vertical-align: top;\n",
       "    }\n",
       "\n",
       "    .dataframe thead th {\n",
       "        text-align: right;\n",
       "    }\n",
       "</style>\n",
       "<table border=\"1\" class=\"dataframe\">\n",
       "  <thead>\n",
       "    <tr style=\"text-align: right;\">\n",
       "      <th></th>\n",
       "      <th>id</th>\n",
       "      <th>name</th>\n",
       "      <th>clean</th>\n",
       "      <th>had_changes</th>\n",
       "      <th>num_words</th>\n",
       "    </tr>\n",
       "  </thead>\n",
       "  <tbody>\n",
       "    <tr>\n",
       "      <th>34</th>\n",
       "      <td>459312</td>\n",
       "      <td>INTEGRALMEDICA - SINISTER MASS POUCH 3KG VITAM...</td>\n",
       "      <td>INTEGRALMEDICA - SINISTER MASS POUCH 3KG VITAM...</td>\n",
       "      <td>False</td>\n",
       "      <td>9</td>\n",
       "    </tr>\n",
       "  </tbody>\n",
       "</table>\n",
       "</div>"
      ],
      "text/plain": [
       "        id                                               name  \\\n",
       "34  459312  INTEGRALMEDICA - SINISTER MASS POUCH 3KG VITAM...   \n",
       "\n",
       "                                                clean  had_changes  num_words  \n",
       "34  INTEGRALMEDICA - SINISTER MASS POUCH 3KG VITAM...        False          9  "
      ]
     },
     "execution_count": 97,
     "metadata": {},
     "output_type": "execute_result"
    }
   ],
   "source": [
    "df[df['id'] == 459312]"
   ]
  },
  {
   "cell_type": "code",
   "execution_count": null,
   "metadata": {},
   "outputs": [],
   "source": [
    "# df[\n",
    "#     df['name'].str.endswith('CP') \n",
    "#     # & df['name'].str.endswith(')')\n",
    "# ]"
   ]
  },
  {
   "cell_type": "code",
   "execution_count": null,
   "metadata": {},
   "outputs": [],
   "source": [
    "# Tratar:\n",
    "# METRONIDAZOL  GEL VAG BG 50G+10APLIC (NOVA QUIMICA)"
   ]
  },
  {
   "cell_type": "code",
   "execution_count": 96,
   "metadata": {},
   "outputs": [],
   "source": [
    "# Unique\n",
    "# unique_ = ['COMP', 'CAPS', 'CAPS.', 'CX', 'CX.', 'INJ', 'UN', 'ML', 'PET', 'C', 'GFA']"
   ]
  },
  {
   "cell_type": "code",
   "execution_count": null,
   "metadata": {},
   "outputs": [],
   "source": [
    "# dict_ = {\n",
    "#     'TX': 'TAXA',\n",
    "#     'ABS': 'ABSORVENTE',\n",
    "#     'ESP': 'ESPARADRAPO',\n",
    "#     'SAB': 'SABONETE',\n",
    "#     'DES': 'DESODORANTE',\n",
    "#     'ESC': 'ESCOVA',\n",
    "#     'LOC': 'LOCAO',\n",
    "#     'TRAD': 'TRADICIONAL',\n",
    "#     'CURAT': 'CURATIVO',\n",
    "# }"
   ]
  }
 ],
 "metadata": {
  "interpreter": {
   "hash": "acb11136433e1efb98de00a145e85b8bf0160d48e03fcada26d6be9bd04c260e"
  },
  "kernelspec": {
   "display_name": "Python 3.10.4 ('.env': venv)",
   "language": "python",
   "name": "python3"
  },
  "language_info": {
   "codemirror_mode": {
    "name": "ipython",
    "version": 3
   },
   "file_extension": ".py",
   "mimetype": "text/x-python",
   "name": "python",
   "nbconvert_exporter": "python",
   "pygments_lexer": "ipython3",
   "version": "3.10.4"
  },
  "orig_nbformat": 4
 },
 "nbformat": 4,
 "nbformat_minor": 2
}
