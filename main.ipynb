{
 "cells": [
  {
   "cell_type": "code",
   "execution_count": 1,
   "metadata": {},
   "outputs": [],
   "source": [
    "import pandas as pd\n",
    "import re"
   ]
  },
  {
   "cell_type": "code",
   "execution_count": 2,
   "metadata": {},
   "outputs": [],
   "source": [
    "df = pd.read_csv('inputs/data_storeproduct_202208111119.csv', usecols = ['id', 'name'])"
   ]
  },
  {
   "cell_type": "code",
   "execution_count": 3,
   "metadata": {},
   "outputs": [
    {
     "data": {
      "text/plain": [
       "(820512, 2)"
      ]
     },
     "execution_count": 3,
     "metadata": {},
     "output_type": "execute_result"
    }
   ],
   "source": [
    "df.shape"
   ]
  },
  {
   "cell_type": "code",
   "execution_count": 4,
   "metadata": {},
   "outputs": [],
   "source": [
    "df.drop_duplicates(subset = 'name', inplace = True)"
   ]
  },
  {
   "cell_type": "code",
   "execution_count": 5,
   "metadata": {},
   "outputs": [
    {
     "data": {
      "text/plain": [
       "(306052, 2)"
      ]
     },
     "execution_count": 5,
     "metadata": {},
     "output_type": "execute_result"
    }
   ],
   "source": [
    "df.shape"
   ]
  },
  {
   "cell_type": "code",
   "execution_count": 6,
   "metadata": {},
   "outputs": [],
   "source": [
    "df['name'] = df['name'].str.upper()"
   ]
  },
  {
   "cell_type": "code",
   "execution_count": 7,
   "metadata": {},
   "outputs": [],
   "source": [
    "df['clean'] = df['name']"
   ]
  },
  {
   "cell_type": "markdown",
   "metadata": {},
   "source": [
    "---"
   ]
  },
  {
   "cell_type": "markdown",
   "metadata": {},
   "source": [
    "### Removes specific characters at the beginning of product names"
   ]
  },
  {
   "cell_type": "code",
   "execution_count": 8,
   "metadata": {},
   "outputs": [],
   "source": [
    "chars = ['!', '%', '*', '+', ',', '-', '.']"
   ]
  },
  {
   "cell_type": "code",
   "execution_count": 9,
   "metadata": {},
   "outputs": [],
   "source": [
    "def clean(name):\n",
    "    for word in name.split()[0]:\n",
    "        for letter in word:\n",
    "            if letter in chars:\n",
    "                name = name.replace(letter, '')\n",
    "\n",
    "    return name"
   ]
  },
  {
   "cell_type": "code",
   "execution_count": 10,
   "metadata": {},
   "outputs": [],
   "source": [
    "df['clean'] = df['clean'].apply(lambda x: clean(x))"
   ]
  },
  {
   "cell_type": "code",
   "execution_count": 39,
   "metadata": {},
   "outputs": [],
   "source": [
    "# # Tested Items\n",
    "# df.loc[[481395, 295715, 755477, 178663, 484751, 239320, 28118, 280929, 170862]]"
   ]
  },
  {
   "cell_type": "markdown",
   "metadata": {},
   "source": [
    "---"
   ]
  },
  {
   "cell_type": "markdown",
   "metadata": {},
   "source": [
    "### Removes product names starting with parentheses"
   ]
  },
  {
   "cell_type": "code",
   "execution_count": 12,
   "metadata": {},
   "outputs": [],
   "source": [
    "df['clean'] = df['clean'].apply(lambda x: re.sub(r'\\([^()]*\\)', '', x))"
   ]
  },
  {
   "cell_type": "code",
   "execution_count": 40,
   "metadata": {},
   "outputs": [],
   "source": [
    "# # Tested Items\n",
    "# df.loc[[743024, 270107, 210205, 295409, 295406, 764575, 208980, 205859, 764574, 796994, 744286]]"
   ]
  },
  {
   "cell_type": "markdown",
   "metadata": {},
   "source": [
    "---"
   ]
  },
  {
   "cell_type": "markdown",
   "metadata": {},
   "source": [
    "### Creates a CSV file with cleaned names"
   ]
  },
  {
   "cell_type": "code",
   "execution_count": 14,
   "metadata": {},
   "outputs": [],
   "source": [
    "df['clean'] = df['clean'].str.strip()"
   ]
  },
  {
   "cell_type": "code",
   "execution_count": 15,
   "metadata": {},
   "outputs": [],
   "source": [
    "df['had_changes'] = df['clean'] != df['name']"
   ]
  },
  {
   "cell_type": "code",
   "execution_count": 16,
   "metadata": {},
   "outputs": [],
   "source": [
    "df['num_words'] = df['clean'].apply(lambda x: len(str(x).split()))"
   ]
  },
  {
   "cell_type": "code",
   "execution_count": 17,
   "metadata": {},
   "outputs": [],
   "source": [
    "df.sort_values(by = 'clean', inplace = True)"
   ]
  },
  {
   "cell_type": "code",
   "execution_count": 18,
   "metadata": {},
   "outputs": [],
   "source": [
    "df.to_csv('outputs/clean.csv', index = False)"
   ]
  },
  {
   "cell_type": "markdown",
   "metadata": {},
   "source": [
    "---"
   ]
  },
  {
   "cell_type": "markdown",
   "metadata": {},
   "source": [
    "### Metrics"
   ]
  },
  {
   "cell_type": "code",
   "execution_count": 19,
   "metadata": {},
   "outputs": [
    {
     "name": "stdout",
     "output_type": "stream",
     "text": [
      "Items\n",
      "-----\n",
      "Total: 306052\n",
      "With changes: 36132\n",
      "Without changes: 269920\n"
     ]
    }
   ],
   "source": [
    "print(f\"Items\\n{'-' * len('Items')}\")\n",
    "print(f\"Total: {df.shape[0]}\")\n",
    "print(f\"With changes: {len(df[df['had_changes'] == True])}\")\n",
    "print(f\"Without changes: {len(df[df['had_changes'] == False])}\")"
   ]
  },
  {
   "cell_type": "code",
   "execution_count": 20,
   "metadata": {},
   "outputs": [
    {
     "name": "stdout",
     "output_type": "stream",
     "text": [
      "Unique Items\n",
      "------------\n",
      "Original dataset: 306051\n",
      "Cleaned dataset: 303880\n",
      "Unified items: 2171\n"
     ]
    }
   ],
   "source": [
    "print(f\"Unique Items\\n{'-' * len('Unique Items')}\")\n",
    "print(f\"Original dataset: {df['name'].nunique()}\")\n",
    "print(f\"Cleaned dataset: {df['clean'].nunique()}\")\n",
    "print(f\"Unified items: {df['name'].nunique() - df['clean'].nunique()}\")"
   ]
  },
  {
   "cell_type": "markdown",
   "metadata": {},
   "source": [
    "---"
   ]
  },
  {
   "cell_type": "code",
   "execution_count": 21,
   "metadata": {},
   "outputs": [],
   "source": [
    "# df[df['id'].isin([408771, 269043, 358945, 444940, 194221, 305712, 194611, 194209, 319551, 193344, 194230])]"
   ]
  },
  {
   "cell_type": "code",
   "execution_count": 22,
   "metadata": {},
   "outputs": [],
   "source": [
    "# df['clean'] = \\\n",
    "#     df['clean'].apply(\n",
    "#         lambda words: \n",
    "#             ' '.join(\n",
    "#             [word for word in words.split() if not (word.startswith('(') or word.endswith(')'))]\n",
    "#         )\n",
    "#     )"
   ]
  },
  {
   "cell_type": "code",
   "execution_count": 23,
   "metadata": {},
   "outputs": [],
   "source": [
    "# def remove_pairs(name, pattern):\n",
    "#     words = name.split()\n",
    "\n",
    "#     for k, v in enumerate(words):\n",
    "#         if v == pattern:\n",
    "#             try:\n",
    "#                 words.remove(words[k + 1])\n",
    "#                 words.remove(v)\n",
    "#             except:\n",
    "#                 pass\n",
    "                \n",
    "#     return ' '.join(words)"
   ]
  },
  {
   "cell_type": "code",
   "execution_count": 24,
   "metadata": {},
   "outputs": [],
   "source": [
    "# patterns = ['REF', 'FPS', 'C/', 'S/', 'CP']"
   ]
  },
  {
   "cell_type": "code",
   "execution_count": 25,
   "metadata": {},
   "outputs": [],
   "source": [
    "# for i in patterns:\n",
    "#     df['clean'] = df['clean'].apply(lambda x: remove_pairs(x, i))"
   ]
  },
  {
   "cell_type": "code",
   "execution_count": 26,
   "metadata": {},
   "outputs": [],
   "source": [
    "# def remove_metrics(name):\n",
    "#     to_remove = []\n",
    "    \n",
    "#     for word in name.split():\n",
    "#         if word[0].isdigit() and 'X' in word and word[-1] == 'M' :\n",
    "#             to_remove.append(word)\n",
    "\n",
    "#     if len(to_remove) > 0:\n",
    "#         return ''. join([name.replace(x, '') for x in to_remove])\n",
    "    \n",
    "#     return name"
   ]
  },
  {
   "cell_type": "code",
   "execution_count": 27,
   "metadata": {},
   "outputs": [],
   "source": [
    "# df['clean'] = df['clean'].apply(lambda x: remove_metrics(x))"
   ]
  },
  {
   "cell_type": "code",
   "execution_count": 28,
   "metadata": {},
   "outputs": [],
   "source": [
    "# def remove_startswith(pattern):\n",
    "#     return lambda words: ' '.join([word for word in words.split() if not word.startswith(pattern)])"
   ]
  },
  {
   "cell_type": "code",
   "execution_count": 29,
   "metadata": {},
   "outputs": [],
   "source": [
    "# patterns = ['C/', 'S/', 'FPS']"
   ]
  },
  {
   "cell_type": "code",
   "execution_count": 30,
   "metadata": {},
   "outputs": [],
   "source": [
    "# for i in patterns:\n",
    "#     df['clean'] = df['clean'].apply(remove_startswith(i))"
   ]
  },
  {
   "cell_type": "code",
   "execution_count": 31,
   "metadata": {},
   "outputs": [],
   "source": [
    "# def remove_endswith(pattern):\n",
    "#     return lambda words: words.replace(''.join([x for x in words.split() if x.endswith(pattern) and x[:-len(pattern)].isdigit()]), '')"
   ]
  },
  {
   "cell_type": "code",
   "execution_count": 32,
   "metadata": {},
   "outputs": [],
   "source": [
    "# endswith_ = ['G', 'L', 'ML', 'MG' , 'UN', 'GR', 'CP', 'CPS', 'VOL', 'CAP', 'UNID', 'UNID.', 'KG']"
   ]
  },
  {
   "cell_type": "code",
   "execution_count": 33,
   "metadata": {},
   "outputs": [],
   "source": [
    "# for i in endswith_:\n",
    "#     df['clean'] = df['clean'].apply(remove_endswith(i))"
   ]
  },
  {
   "cell_type": "code",
   "execution_count": 34,
   "metadata": {},
   "outputs": [],
   "source": [
    "# df.loc[[\n",
    "#     10, 1371, 1526, 177283, 2252, # remove_pairs()\n",
    "#     3542, 210239, # remove_metrics() \n",
    "#     12, 790, 2018, 208178, # remove_startswith()\n",
    "#     8, 65, 3810, 4262, 29601, 54775, 210436, 211906, 213106, 816883, 34, # remove_endswith()\n",
    "#     820265, 295406 # lambda x: x.startswith('(') and x.endswith('(') \n",
    "# ]]"
   ]
  },
  {
   "cell_type": "markdown",
   "metadata": {},
   "source": [
    "---"
   ]
  },
  {
   "cell_type": "code",
   "execution_count": 35,
   "metadata": {},
   "outputs": [],
   "source": [
    "# df[\n",
    "#     df['name'].str.endswith('CP') \n",
    "#     # & df['name'].str.endswith(')')\n",
    "# ]"
   ]
  },
  {
   "cell_type": "code",
   "execution_count": 36,
   "metadata": {},
   "outputs": [],
   "source": [
    "# Tratar:\n",
    "# METRONIDAZOL  GEL VAG BG 50G+10APLIC (NOVA QUIMICA)\n",
    "# 38-952 KIT PROMO MILENA SH+CON+CR GRATIS (PADRÃO DE [9-9], AVALIAR CASOS)\n",
    "# DESALEX 0,5MG XP"
   ]
  },
  {
   "cell_type": "code",
   "execution_count": 37,
   "metadata": {},
   "outputs": [],
   "source": [
    "# Unique\n",
    "# unique_ = ['COMP', 'CAPS', 'CAPS.', 'CX', 'CX.', 'INJ', 'UN', 'ML', 'PET', 'C', 'GFA']"
   ]
  },
  {
   "cell_type": "code",
   "execution_count": 38,
   "metadata": {},
   "outputs": [],
   "source": [
    "# dict_ = {\n",
    "#     'TX': 'TAXA',\n",
    "#     'ABS': 'ABSORVENTE',\n",
    "#     'ESP': 'ESPARADRAPO',\n",
    "#     'SAB': 'SABONETE',\n",
    "#     'DES': 'DESODORANTE',\n",
    "#     'ESC': 'ESCOVA',\n",
    "#     'LOC': 'LOCAO',\n",
    "#     'TRAD': 'TRADICIONAL',\n",
    "#     'CURAT': 'CURATIVO',\n",
    "# }"
   ]
  }
 ],
 "metadata": {
  "interpreter": {
   "hash": "acb11136433e1efb98de00a145e85b8bf0160d48e03fcada26d6be9bd04c260e"
  },
  "kernelspec": {
   "display_name": "Python 3.10.4 ('.env': venv)",
   "language": "python",
   "name": "python3"
  },
  "language_info": {
   "codemirror_mode": {
    "name": "ipython",
    "version": 3
   },
   "file_extension": ".py",
   "mimetype": "text/x-python",
   "name": "python",
   "nbconvert_exporter": "python",
   "pygments_lexer": "ipython3",
   "version": "3.10.4"
  },
  "orig_nbformat": 4
 },
 "nbformat": 4,
 "nbformat_minor": 2
}
