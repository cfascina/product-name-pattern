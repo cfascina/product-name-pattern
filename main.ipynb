{
 "cells": [
  {
   "cell_type": "code",
   "execution_count": 1,
   "metadata": {},
   "outputs": [],
   "source": [
    "import pandas as pd\n",
    "import re"
   ]
  },
  {
   "cell_type": "code",
   "execution_count": 2,
   "metadata": {},
   "outputs": [],
   "source": [
    "df = pd.read_csv('inputs/data_storeproduct_202208111119.csv', usecols = ['id', 'name'])"
   ]
  },
  {
   "cell_type": "code",
   "execution_count": 3,
   "metadata": {},
   "outputs": [
    {
     "data": {
      "text/plain": [
       "(820512, 2)"
      ]
     },
     "execution_count": 3,
     "metadata": {},
     "output_type": "execute_result"
    }
   ],
   "source": [
    "df.shape"
   ]
  },
  {
   "cell_type": "code",
   "execution_count": 4,
   "metadata": {},
   "outputs": [],
   "source": [
    "df.drop_duplicates(subset = 'name', inplace = True)"
   ]
  },
  {
   "cell_type": "code",
   "execution_count": 5,
   "metadata": {},
   "outputs": [
    {
     "data": {
      "text/plain": [
       "(306052, 2)"
      ]
     },
     "execution_count": 5,
     "metadata": {},
     "output_type": "execute_result"
    }
   ],
   "source": [
    "df.shape"
   ]
  },
  {
   "cell_type": "code",
   "execution_count": 6,
   "metadata": {},
   "outputs": [],
   "source": [
    "df['name'] = df['name'].str.upper()"
   ]
  },
  {
   "cell_type": "code",
   "execution_count": 7,
   "metadata": {},
   "outputs": [],
   "source": [
    "df['clean'] = df['name']"
   ]
  },
  {
   "cell_type": "markdown",
   "metadata": {},
   "source": [
    "---"
   ]
  },
  {
   "cell_type": "markdown",
   "metadata": {},
   "source": [
    "### Removes specific characters at the beginning of product names"
   ]
  },
  {
   "cell_type": "code",
   "execution_count": 8,
   "metadata": {},
   "outputs": [],
   "source": [
    "def clean_initial_characters(name):\n",
    "    chars = ['!', '%', '*', '+', ',', '-', '.', '/', '<', '=']\n",
    "\n",
    "    try:\n",
    "        for word in name.split()[0]:\n",
    "            for char_ in word:\n",
    "                if char_ in chars:\n",
    "                    name = name.replace(char_, '')\n",
    "    except:\n",
    "        name = name\n",
    "    \n",
    "    return name    "
   ]
  },
  {
   "cell_type": "code",
   "execution_count": 9,
   "metadata": {},
   "outputs": [],
   "source": [
    "df['clean'] = df['clean'].apply(lambda x: clean_initial_characters(x))"
   ]
  },
  {
   "cell_type": "code",
   "execution_count": 10,
   "metadata": {},
   "outputs": [],
   "source": [
    "# # Tested Items\n",
    "# df.loc[[481395, 295715, 755477, 178663, 484751, 239320, 28118, 280929, 170862, 106470]]"
   ]
  },
  {
   "cell_type": "markdown",
   "metadata": {},
   "source": [
    "---"
   ]
  },
  {
   "cell_type": "markdown",
   "metadata": {},
   "source": [
    "### Removes parentheses"
   ]
  },
  {
   "cell_type": "code",
   "execution_count": 11,
   "metadata": {},
   "outputs": [],
   "source": [
    "df['clean'] = df['clean'].apply(lambda x: re.sub(r'\\([^()]*\\)', '', x))"
   ]
  },
  {
   "cell_type": "code",
   "execution_count": 12,
   "metadata": {},
   "outputs": [],
   "source": [
    "# # Tested Items\n",
    "# df.loc[[743024, 270107, 210205, 295409, 295406, 764575, 208980, 205859, 764574, 796994, 744286]]"
   ]
  },
  {
   "cell_type": "markdown",
   "metadata": {},
   "source": [
    "---"
   ]
  },
  {
   "cell_type": "markdown",
   "metadata": {},
   "source": [
    "### Removes digits at the beginning of product names"
   ]
  },
  {
   "cell_type": "code",
   "execution_count": 13,
   "metadata": {},
   "outputs": [],
   "source": [
    "def clean_initial_digits(name):\n",
    "    try:\n",
    "        first_word = name.split()[0]\n",
    "\n",
    "        if first_word[0].isdigit():\n",
    "            for char_ in first_word:\n",
    "                if char_.isdigit():\n",
    "                    name = name.replace(char_, '')\n",
    "    except:\n",
    "        name = ''\n",
    "\n",
    "    return name"
   ]
  },
  {
   "cell_type": "code",
   "execution_count": 14,
   "metadata": {},
   "outputs": [],
   "source": [
    "df['clean'] = df['clean'].apply(lambda x: clean_initial_digits(x))"
   ]
  },
  {
   "cell_type": "code",
   "execution_count": 15,
   "metadata": {},
   "outputs": [],
   "source": [
    "df['clean'] = df['clean'].apply(lambda x: clean_initial_characters(x))"
   ]
  },
  {
   "cell_type": "code",
   "execution_count": 16,
   "metadata": {},
   "outputs": [],
   "source": [
    "# # Tested Items\n",
    "# df.loc[[743024,638551, 682945, 545029, 337465, 743128, 752302, 337317, 743028]]"
   ]
  },
  {
   "cell_type": "markdown",
   "metadata": {},
   "source": [
    "---"
   ]
  },
  {
   "cell_type": "markdown",
   "metadata": {},
   "source": [
    "### Removes abbreviations"
   ]
  },
  {
   "cell_type": "code",
   "execution_count": 17,
   "metadata": {},
   "outputs": [],
   "source": [
    "def clean_abbrs(name):\n",
    "    abbrs = ['REF', 'REF.', 'C/', 'S/', 'P/', 'FPS']\n",
    "    to_remove = []\n",
    "    words = name.split()\n",
    "\n",
    "    for word in words:\n",
    "        if word in abbrs:\n",
    "            to_remove.append(word)\n",
    "            try:\n",
    "                to_remove.append(words[words.index(word) + 1])\n",
    "            except:\n",
    "                pass\n",
    "        elif word.startswith(tuple(abbrs)):\n",
    "            for abbr in abbrs:\n",
    "                if abbr == 'REF' == word[:3] and not word[len(abbr):][0].isdigit():\n",
    "                    break\n",
    "                else:\n",
    "                    to_remove.append(word)\n",
    "\n",
    "    return ' '.join([word for word in words if word not in to_remove])"
   ]
  },
  {
   "cell_type": "code",
   "execution_count": 18,
   "metadata": {},
   "outputs": [],
   "source": [
    "df['clean'] = df['clean'].apply(lambda x: clean_abbrs(x))"
   ]
  },
  {
   "cell_type": "code",
   "execution_count": 35,
   "metadata": {},
   "outputs": [],
   "source": [
    "# # Tested Items\n",
    "# df.loc[[\n",
    "#     507889, 308443, 814522, 708421, 800889, 773057, 671045, 583425, 582548, 700178, \n",
    "#     318441, 318442, 214566, 632491, 480583, 733038, 407674, 658417, 310619, 648318\n",
    "# ]]"
   ]
  },
  {
   "cell_type": "markdown",
   "metadata": {},
   "source": [
    "---"
   ]
  },
  {
   "cell_type": "markdown",
   "metadata": {},
   "source": [
    "### Creates a CSV file with cleaned names"
   ]
  },
  {
   "cell_type": "code",
   "execution_count": 20,
   "metadata": {},
   "outputs": [],
   "source": [
    "df['clean'] = df['clean'].str.strip()"
   ]
  },
  {
   "cell_type": "code",
   "execution_count": 21,
   "metadata": {},
   "outputs": [],
   "source": [
    "df['had_changes'] = df['clean'] != df['name']"
   ]
  },
  {
   "cell_type": "code",
   "execution_count": 22,
   "metadata": {},
   "outputs": [],
   "source": [
    "df['num_words'] = df['clean'].apply(lambda x: len(str(x).split()))"
   ]
  },
  {
   "cell_type": "code",
   "execution_count": 23,
   "metadata": {},
   "outputs": [],
   "source": [
    "df.sort_values(by = 'clean', inplace = True)"
   ]
  },
  {
   "cell_type": "code",
   "execution_count": 24,
   "metadata": {},
   "outputs": [],
   "source": [
    "df.to_csv('outputs/clean.csv', index = False)"
   ]
  },
  {
   "cell_type": "markdown",
   "metadata": {},
   "source": [
    "---"
   ]
  },
  {
   "cell_type": "markdown",
   "metadata": {},
   "source": [
    "### Metrics"
   ]
  },
  {
   "cell_type": "code",
   "execution_count": 25,
   "metadata": {},
   "outputs": [
    {
     "name": "stdout",
     "output_type": "stream",
     "text": [
      "Items\n",
      "-----\n",
      "Total: 306052\n",
      "Changed: 91447\n",
      "Not Changed: 214605\n"
     ]
    }
   ],
   "source": [
    "print(f\"Items\\n{'-' * len('Items')}\")\n",
    "print(f\"Total: {df.shape[0]}\")\n",
    "print(f\"Changed: {len(df[df['had_changes'] == True])}\")\n",
    "print(f\"Not Changed: {len(df[df['had_changes'] == False])}\")\n",
    "\n",
    "# TOTAL     CHANGED     NOT CHANGED\n",
    "# 306.052   36.829      269.223\n",
    "# 306.052   91.447      214.605"
   ]
  },
  {
   "cell_type": "code",
   "execution_count": 26,
   "metadata": {},
   "outputs": [
    {
     "name": "stdout",
     "output_type": "stream",
     "text": [
      "Unique Items\n",
      "------------\n",
      "Original dataset: 306051\n",
      "Cleaned dataset: 297114\n",
      "Unified items: 8937\n"
     ]
    }
   ],
   "source": [
    "print(f\"Unique Items\\n{'-' * len('Unique Items')}\")\n",
    "print(f\"Original dataset: {df['name'].nunique()}\")\n",
    "print(f\"Cleaned dataset: {df['clean'].nunique()}\")\n",
    "print(f\"Unified items: {df['name'].nunique() - df['clean'].nunique()}\")\n",
    "\n",
    "# ORIGINAL      CLEANED     UNIFIED\n",
    "# 306.051       303.710     2.341\n",
    "# 306.051       297.114     8.937"
   ]
  },
  {
   "cell_type": "markdown",
   "metadata": {},
   "source": [
    "---"
   ]
  },
  {
   "cell_type": "code",
   "execution_count": 27,
   "metadata": {},
   "outputs": [],
   "source": [
    "# df[df['id'].isin([49149])]"
   ]
  },
  {
   "cell_type": "code",
   "execution_count": 28,
   "metadata": {},
   "outputs": [],
   "source": [
    "# def clear_units(name):\n",
    "#     pass\n",
    "\n",
    "# endswith_ = [\n",
    "# GR\n",
    "# CPS\n",
    "# VOL\n",
    "# CAP\n",
    "# KG\n",
    "# ML\n",
    "# UN\n",
    "# G\n",
    "# UND\n",
    "# CM\n",
    "# V\n",
    "# MG\n",
    "# GR\n",
    "# CP\n",
    "# CAPS\n",
    "# CM\n",
    "# P\n",
    "# PC\n",
    "# U\n",
    "# L\n",
    "# UNID\n",
    "# UNDS\n",
    "# UNID.\n"
   ]
  },
  {
   "cell_type": "code",
   "execution_count": 29,
   "metadata": {},
   "outputs": [],
   "source": [
    "# def remove_endswith(pattern):\n",
    "#     return lambda words: words.replace(''.join([x for x in words.split() if x.endswith(pattern) and x[:-len(pattern)].isdigit()]), '')"
   ]
  },
  {
   "cell_type": "code",
   "execution_count": 30,
   "metadata": {},
   "outputs": [],
   "source": [
    "# for i in endswith_:\n",
    "#     df['clean'] = df['clean'].apply(remove_endswith(i))"
   ]
  },
  {
   "cell_type": "code",
   "execution_count": 31,
   "metadata": {},
   "outputs": [],
   "source": [
    "# def remove_metrics(name):\n",
    "#     to_remove = []\n",
    "    \n",
    "#     for word in name.split():\n",
    "#         if word[0].isdigit() and 'X' in word and word[-1] == 'M':\n",
    "#             to_remove.append(word)\n",
    "\n",
    "#     if len(to_remove) > 0:\n",
    "#         return ''. join([name.replace(x, '') for x in to_remove])\n",
    "    \n",
    "#     return name"
   ]
  },
  {
   "cell_type": "code",
   "execution_count": 32,
   "metadata": {},
   "outputs": [],
   "source": [
    "# df['clean'] = df['clean'].apply(lambda x: remove_metrics(x))"
   ]
  },
  {
   "cell_type": "markdown",
   "metadata": {},
   "source": [
    "---"
   ]
  },
  {
   "cell_type": "code",
   "execution_count": 33,
   "metadata": {},
   "outputs": [],
   "source": [
    "# Unique\n",
    "# unique_ = ['COMP', 'CAPS', 'CAPS.', 'CX', 'CX.', 'INJ', 'UN', 'ML', 'PET', 'C', 'GFA']"
   ]
  },
  {
   "cell_type": "code",
   "execution_count": 34,
   "metadata": {},
   "outputs": [],
   "source": [
    "# dict_ = {\n",
    "#     'TX': 'TAXA',\n",
    "#     'ABS': 'ABSORVENTE',\n",
    "#     'ESP': 'ESPARADRAPO',\n",
    "#     'SAB': 'SABONETE',\n",
    "#     'DES': 'DESODORANTE',\n",
    "#     'ESC': 'ESCOVA',\n",
    "#     'LOC': 'LOCAO',\n",
    "#     'PERF': 'PERFUME',\n",
    "#     'TRAD': 'TRADICIONAL',\n",
    "#     'CURAT': 'CURATIVO',\n",
    "# }"
   ]
  }
 ],
 "metadata": {
  "interpreter": {
   "hash": "acb11136433e1efb98de00a145e85b8bf0160d48e03fcada26d6be9bd04c260e"
  },
  "kernelspec": {
   "display_name": "Python 3.10.4 ('.env': venv)",
   "language": "python",
   "name": "python3"
  },
  "language_info": {
   "codemirror_mode": {
    "name": "ipython",
    "version": 3
   },
   "file_extension": ".py",
   "mimetype": "text/x-python",
   "name": "python",
   "nbconvert_exporter": "python",
   "pygments_lexer": "ipython3",
   "version": "3.10.4"
  },
  "orig_nbformat": 4
 },
 "nbformat": 4,
 "nbformat_minor": 2
}
