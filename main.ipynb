{
 "cells": [
  {
   "cell_type": "code",
   "execution_count": 1,
   "metadata": {},
   "outputs": [],
   "source": [
    "import pandas as pd"
   ]
  },
  {
   "cell_type": "code",
   "execution_count": 2,
   "metadata": {},
   "outputs": [],
   "source": [
    "df = pd.read_csv('inputs/data_storeproduct_202208111119.csv', usecols = ['id', 'name'])"
   ]
  },
  {
   "cell_type": "code",
   "execution_count": 3,
   "metadata": {},
   "outputs": [
    {
     "data": {
      "text/plain": [
       "(820512, 2)"
      ]
     },
     "execution_count": 3,
     "metadata": {},
     "output_type": "execute_result"
    }
   ],
   "source": [
    "df.shape"
   ]
  },
  {
   "cell_type": "code",
   "execution_count": 4,
   "metadata": {},
   "outputs": [],
   "source": [
    "df.drop_duplicates(subset = 'name', inplace = True)"
   ]
  },
  {
   "cell_type": "code",
   "execution_count": 5,
   "metadata": {},
   "outputs": [
    {
     "data": {
      "text/plain": [
       "(306052, 2)"
      ]
     },
     "execution_count": 5,
     "metadata": {},
     "output_type": "execute_result"
    }
   ],
   "source": [
    "df.shape"
   ]
  },
  {
   "cell_type": "code",
   "execution_count": 6,
   "metadata": {},
   "outputs": [],
   "source": [
    "df['name'] = df['name'].str.upper()"
   ]
  },
  {
   "cell_type": "code",
   "execution_count": 7,
   "metadata": {},
   "outputs": [],
   "source": [
    "df['clean'] = df['name']"
   ]
  },
  {
   "cell_type": "code",
   "execution_count": 8,
   "metadata": {},
   "outputs": [],
   "source": [
    "def remove_pairs(name, pattern):\n",
    "    words = name.split()\n",
    "\n",
    "    for k, v in enumerate(words):\n",
    "        if v == pattern:\n",
    "            try:\n",
    "                words.remove(words[k + 1])\n",
    "                words.remove(v)\n",
    "            except:\n",
    "                pass\n",
    "                \n",
    "    return ' '.join(words)"
   ]
  },
  {
   "cell_type": "code",
   "execution_count": 9,
   "metadata": {},
   "outputs": [],
   "source": [
    "patterns = ['REF', 'FPS', 'C/', 'S/']"
   ]
  },
  {
   "cell_type": "code",
   "execution_count": 10,
   "metadata": {},
   "outputs": [],
   "source": [
    "for i in patterns:\n",
    "    df['clean'] = df['clean'].apply(lambda x: remove_pairs(x, i))"
   ]
  },
  {
   "cell_type": "code",
   "execution_count": 11,
   "metadata": {},
   "outputs": [],
   "source": [
    "def remove_metrics(name):\n",
    "    to_remove = []\n",
    "    \n",
    "    for word in name.split():\n",
    "        if word[0].isdigit() and 'X' in word and word[-1] == 'M' :\n",
    "            to_remove.append(word)\n",
    "\n",
    "    if len(to_remove) > 0:\n",
    "        return ''. join([name.replace(x, '') for x in to_remove])\n",
    "    \n",
    "    return name"
   ]
  },
  {
   "cell_type": "code",
   "execution_count": 12,
   "metadata": {},
   "outputs": [],
   "source": [
    "df['clean'] = df['clean'].apply(lambda x: remove_metrics(x))"
   ]
  },
  {
   "cell_type": "code",
   "execution_count": 13,
   "metadata": {},
   "outputs": [],
   "source": [
    "def remove_startswith(pattern):\n",
    "    return lambda words: words.replace(''.join([x for x in words.split() if x.startswith(pattern)]), '')"
   ]
  },
  {
   "cell_type": "code",
   "execution_count": 14,
   "metadata": {},
   "outputs": [],
   "source": [
    "patterns = ['C/', 'S/', 'FPS']"
   ]
  },
  {
   "cell_type": "code",
   "execution_count": 15,
   "metadata": {},
   "outputs": [],
   "source": [
    "for i in patterns:\n",
    "    df['clean'] = df['clean'].apply(remove_startswith(i))"
   ]
  },
  {
   "cell_type": "code",
   "execution_count": 16,
   "metadata": {},
   "outputs": [],
   "source": [
    "def remove_endswith(pattern, numbers):\n",
    "    return lambda words: words.replace(''.join([x for x in words.split(' ') if x.endswith(pattern) and x[:numbers].isdigit()]), '')"
   ]
  },
  {
   "cell_type": "code",
   "execution_count": 17,
   "metadata": {},
   "outputs": [],
   "source": [
    "endswith_ = {\n",
    "    'G':      -len('G'),\n",
    "    'L':      -len('L'),\n",
    "    'ML':     -len('ML'),\n",
    "    'UN':     -len('UN'),\n",
    "    'GR':     -len('GR'),\n",
    "    'CPS':    -len('CPS'),\n",
    "    'VOL':    -len('VOL'),\n",
    "    'CAP':    -len('CAP'),\n",
    "    'UNID':   -len('UNID'),\n",
    "    'UNID.':  -len('UNID.'),\n",
    "}"
   ]
  },
  {
   "cell_type": "code",
   "execution_count": 18,
   "metadata": {},
   "outputs": [],
   "source": [
    "# for k, v in endswith_.items():\n",
    "#     df['cleaned'] = df['cleaned'].apply(remove_endswith(k, v))"
   ]
  },
  {
   "cell_type": "code",
   "execution_count": 19,
   "metadata": {},
   "outputs": [],
   "source": [
    "df['clean'] = df['clean'].str.strip()"
   ]
  },
  {
   "cell_type": "code",
   "execution_count": 20,
   "metadata": {},
   "outputs": [],
   "source": [
    "df['num_words'] = df['clean'].apply(lambda x: len(str(x).split()))"
   ]
  },
  {
   "cell_type": "code",
   "execution_count": 63,
   "metadata": {},
   "outputs": [
    {
     "data": {
      "text/html": [
       "<div>\n",
       "<style scoped>\n",
       "    .dataframe tbody tr th:only-of-type {\n",
       "        vertical-align: middle;\n",
       "    }\n",
       "\n",
       "    .dataframe tbody tr th {\n",
       "        vertical-align: top;\n",
       "    }\n",
       "\n",
       "    .dataframe thead th {\n",
       "        text-align: right;\n",
       "    }\n",
       "</style>\n",
       "<table border=\"1\" class=\"dataframe\">\n",
       "  <thead>\n",
       "    <tr style=\"text-align: right;\">\n",
       "      <th></th>\n",
       "      <th>id</th>\n",
       "      <th>name</th>\n",
       "      <th>clean</th>\n",
       "      <th>num_words</th>\n",
       "    </tr>\n",
       "  </thead>\n",
       "  <tbody>\n",
       "    <tr>\n",
       "      <th>8</th>\n",
       "      <td>458513</td>\n",
       "      <td>CHOC TWIX 15GR</td>\n",
       "      <td>CHOC TWIX 15GR</td>\n",
       "      <td>3</td>\n",
       "    </tr>\n",
       "    <tr>\n",
       "      <th>65</th>\n",
       "      <td>375785</td>\n",
       "      <td>COENZIMA Q10 500MG 60CPS</td>\n",
       "      <td>COENZIMA Q10 500MG 60CPS</td>\n",
       "      <td>4</td>\n",
       "    </tr>\n",
       "    <tr>\n",
       "      <th>3810</th>\n",
       "      <td>208009</td>\n",
       "      <td>BAND AID VARIADOS C 30UNID</td>\n",
       "      <td>BAND AID VARIADOS C 30UNID</td>\n",
       "      <td>5</td>\n",
       "    </tr>\n",
       "    <tr>\n",
       "      <th>4262</th>\n",
       "      <td>210052</td>\n",
       "      <td>AGUA OX.BEIRA ALTA 20VOL</td>\n",
       "      <td>AGUA OX.BEIRA ALTA 20VOL</td>\n",
       "      <td>4</td>\n",
       "    </tr>\n",
       "    <tr>\n",
       "      <th>29601</th>\n",
       "      <td>894356</td>\n",
       "      <td>BAND AID SKIN FLEX 25UNID.</td>\n",
       "      <td>BAND AID SKIN FLEX 25UNID.</td>\n",
       "      <td>5</td>\n",
       "    </tr>\n",
       "    <tr>\n",
       "      <th>54775</th>\n",
       "      <td>347881</td>\n",
       "      <td>MULTIGRIP BLIST 10CAP</td>\n",
       "      <td>MULTIGRIP BLIST 10CAP</td>\n",
       "      <td>3</td>\n",
       "    </tr>\n",
       "    <tr>\n",
       "      <th>210436</th>\n",
       "      <td>212540</td>\n",
       "      <td>FRESUBIN HP ENERGY 1000ML</td>\n",
       "      <td>FRESUBIN HP ENERGY 1000ML</td>\n",
       "      <td>4</td>\n",
       "    </tr>\n",
       "    <tr>\n",
       "      <th>211906</th>\n",
       "      <td>61903</td>\n",
       "      <td>LAVIE ALCOOL GEL 70 460G</td>\n",
       "      <td>LAVIE ALCOOL GEL 70 460G</td>\n",
       "      <td>5</td>\n",
       "    </tr>\n",
       "    <tr>\n",
       "      <th>213106</th>\n",
       "      <td>62840</td>\n",
       "      <td>ENERGETICO GFA 1L 6UN</td>\n",
       "      <td>ENERGETICO GFA 1L 6UN</td>\n",
       "      <td>4</td>\n",
       "    </tr>\n",
       "    <tr>\n",
       "      <th>816883</th>\n",
       "      <td>381777</td>\n",
       "      <td>AGUA PERFUMADA WOOD 1L</td>\n",
       "      <td>AGUA PERFUMADA WOOD 1L</td>\n",
       "      <td>4</td>\n",
       "    </tr>\n",
       "  </tbody>\n",
       "</table>\n",
       "</div>"
      ],
      "text/plain": [
       "            id                        name                       clean  \\\n",
       "8       458513              CHOC TWIX 15GR              CHOC TWIX 15GR   \n",
       "65      375785    COENZIMA Q10 500MG 60CPS    COENZIMA Q10 500MG 60CPS   \n",
       "3810    208009  BAND AID VARIADOS C 30UNID  BAND AID VARIADOS C 30UNID   \n",
       "4262    210052    AGUA OX.BEIRA ALTA 20VOL    AGUA OX.BEIRA ALTA 20VOL   \n",
       "29601   894356  BAND AID SKIN FLEX 25UNID.  BAND AID SKIN FLEX 25UNID.   \n",
       "54775   347881       MULTIGRIP BLIST 10CAP       MULTIGRIP BLIST 10CAP   \n",
       "210436  212540   FRESUBIN HP ENERGY 1000ML   FRESUBIN HP ENERGY 1000ML   \n",
       "211906   61903    LAVIE ALCOOL GEL 70 460G    LAVIE ALCOOL GEL 70 460G   \n",
       "213106   62840       ENERGETICO GFA 1L 6UN       ENERGETICO GFA 1L 6UN   \n",
       "816883  381777      AGUA PERFUMADA WOOD 1L      AGUA PERFUMADA WOOD 1L   \n",
       "\n",
       "        num_words  \n",
       "8               3  \n",
       "65              4  \n",
       "3810            5  \n",
       "4262            4  \n",
       "29601           5  \n",
       "54775           3  \n",
       "210436          4  \n",
       "211906          5  \n",
       "213106          4  \n",
       "816883          4  "
      ]
     },
     "execution_count": 63,
     "metadata": {},
     "output_type": "execute_result"
    }
   ],
   "source": [
    "df[df['id'].isin([61903, 212540, 62840, 208009, 894356, 381777, 458513, 375785, 210052, 347881\n",
    "\n",
    "])]"
   ]
  },
  {
   "cell_type": "code",
   "execution_count": 62,
   "metadata": {},
   "outputs": [
    {
     "data": {
      "text/html": [
       "<div>\n",
       "<style scoped>\n",
       "    .dataframe tbody tr th:only-of-type {\n",
       "        vertical-align: middle;\n",
       "    }\n",
       "\n",
       "    .dataframe tbody tr th {\n",
       "        vertical-align: top;\n",
       "    }\n",
       "\n",
       "    .dataframe thead th {\n",
       "        text-align: right;\n",
       "    }\n",
       "</style>\n",
       "<table border=\"1\" class=\"dataframe\">\n",
       "  <thead>\n",
       "    <tr style=\"text-align: right;\">\n",
       "      <th></th>\n",
       "      <th>id</th>\n",
       "      <th>name</th>\n",
       "      <th>clean</th>\n",
       "      <th>num_words</th>\n",
       "    </tr>\n",
       "  </thead>\n",
       "  <tbody>\n",
       "    <tr>\n",
       "      <th>53136</th>\n",
       "      <td>418510</td>\n",
       "      <td>SUPRAVIT MEMORIA C/60CAP</td>\n",
       "      <td>SUPRAVIT MEMORIA</td>\n",
       "      <td>2</td>\n",
       "    </tr>\n",
       "    <tr>\n",
       "      <th>54775</th>\n",
       "      <td>347881</td>\n",
       "      <td>MULTIGRIP BLIST 10CAP</td>\n",
       "      <td>MULTIGRIP BLIST 10CAP</td>\n",
       "      <td>3</td>\n",
       "    </tr>\n",
       "    <tr>\n",
       "      <th>55047</th>\n",
       "      <td>1022551</td>\n",
       "      <td>COLAGENO TIPO II 40MG 60CAP</td>\n",
       "      <td>COLAGENO TIPO II 40MG 60CAP</td>\n",
       "      <td>5</td>\n",
       "    </tr>\n",
       "    <tr>\n",
       "      <th>55179</th>\n",
       "      <td>1021825</td>\n",
       "      <td>RESFEGRIPE 20CAP</td>\n",
       "      <td>RESFEGRIPE 20CAP</td>\n",
       "      <td>2</td>\n",
       "    </tr>\n",
       "    <tr>\n",
       "      <th>57474</th>\n",
       "      <td>283703</td>\n",
       "      <td>MACRODANTINA 100MG C/40CAP</td>\n",
       "      <td>MACRODANTINA 100MG</td>\n",
       "      <td>2</td>\n",
       "    </tr>\n",
       "    <tr>\n",
       "      <th>...</th>\n",
       "      <td>...</td>\n",
       "      <td>...</td>\n",
       "      <td>...</td>\n",
       "      <td>...</td>\n",
       "    </tr>\n",
       "    <tr>\n",
       "      <th>743031</th>\n",
       "      <td>426335</td>\n",
       "      <td>(*)7366701-TIAMINA + MAGNESIO QUELATO - 30CAP</td>\n",
       "      <td>(*)7366701-TIAMINA + MAGNESIO QUELATO - 30CAP</td>\n",
       "      <td>6</td>\n",
       "    </tr>\n",
       "    <tr>\n",
       "      <th>786747</th>\n",
       "      <td>479075</td>\n",
       "      <td>VARINATI 250MG 30CAP</td>\n",
       "      <td>VARINATI 250MG 30CAP</td>\n",
       "      <td>3</td>\n",
       "    </tr>\n",
       "    <tr>\n",
       "      <th>797808</th>\n",
       "      <td>371605</td>\n",
       "      <td>ALCACHOFRA 350MG 60CAP</td>\n",
       "      <td>ALCACHOFRA 350MG 60CAP</td>\n",
       "      <td>3</td>\n",
       "    </tr>\n",
       "    <tr>\n",
       "      <th>798985</th>\n",
       "      <td>893751</td>\n",
       "      <td>INPRUV DK 1.000UI+100MCG C 30CAP</td>\n",
       "      <td>INPRUV DK 1.000UI+100MCG C 30CAP</td>\n",
       "      <td>5</td>\n",
       "    </tr>\n",
       "    <tr>\n",
       "      <th>800597</th>\n",
       "      <td>427186</td>\n",
       "      <td>GRIPALCE C/ 20CAP</td>\n",
       "      <td>GRIPALCE</td>\n",
       "      <td>1</td>\n",
       "    </tr>\n",
       "  </tbody>\n",
       "</table>\n",
       "<p>103 rows × 4 columns</p>\n",
       "</div>"
      ],
      "text/plain": [
       "             id                                           name  \\\n",
       "53136    418510                       SUPRAVIT MEMORIA C/60CAP   \n",
       "54775    347881                          MULTIGRIP BLIST 10CAP   \n",
       "55047   1022551                    COLAGENO TIPO II 40MG 60CAP   \n",
       "55179   1021825                               RESFEGRIPE 20CAP   \n",
       "57474    283703                     MACRODANTINA 100MG C/40CAP   \n",
       "...         ...                                            ...   \n",
       "743031   426335  (*)7366701-TIAMINA + MAGNESIO QUELATO - 30CAP   \n",
       "786747   479075                           VARINATI 250MG 30CAP   \n",
       "797808   371605                         ALCACHOFRA 350MG 60CAP   \n",
       "798985   893751               INPRUV DK 1.000UI+100MCG C 30CAP   \n",
       "800597   427186                              GRIPALCE C/ 20CAP   \n",
       "\n",
       "                                                clean  num_words  \n",
       "53136                                SUPRAVIT MEMORIA          2  \n",
       "54775                           MULTIGRIP BLIST 10CAP          3  \n",
       "55047                     COLAGENO TIPO II 40MG 60CAP          5  \n",
       "55179                                RESFEGRIPE 20CAP          2  \n",
       "57474                              MACRODANTINA 100MG          2  \n",
       "...                                               ...        ...  \n",
       "743031  (*)7366701-TIAMINA + MAGNESIO QUELATO - 30CAP          6  \n",
       "786747                           VARINATI 250MG 30CAP          3  \n",
       "797808                         ALCACHOFRA 350MG 60CAP          3  \n",
       "798985               INPRUV DK 1.000UI+100MCG C 30CAP          5  \n",
       "800597                                       GRIPALCE          1  \n",
       "\n",
       "[103 rows x 4 columns]"
      ]
     },
     "execution_count": 62,
     "metadata": {},
     "output_type": "execute_result"
    }
   ],
   "source": [
    "df[df['name'].str.endswith('0CAP')]"
   ]
  },
  {
   "cell_type": "code",
   "execution_count": 31,
   "metadata": {},
   "outputs": [
    {
     "data": {
      "text/html": [
       "<div>\n",
       "<style scoped>\n",
       "    .dataframe tbody tr th:only-of-type {\n",
       "        vertical-align: middle;\n",
       "    }\n",
       "\n",
       "    .dataframe tbody tr th {\n",
       "        vertical-align: top;\n",
       "    }\n",
       "\n",
       "    .dataframe thead th {\n",
       "        text-align: right;\n",
       "    }\n",
       "</style>\n",
       "<table border=\"1\" class=\"dataframe\">\n",
       "  <thead>\n",
       "    <tr style=\"text-align: right;\">\n",
       "      <th></th>\n",
       "      <th>id</th>\n",
       "      <th>name</th>\n",
       "      <th>clean</th>\n",
       "      <th>num_words</th>\n",
       "    </tr>\n",
       "  </thead>\n",
       "  <tbody>\n",
       "    <tr>\n",
       "      <th>10</th>\n",
       "      <td>458515</td>\n",
       "      <td>BITUFO - PASSA FIO WAY C/ 30</td>\n",
       "      <td>BITUFO - PASSA FIO WAY</td>\n",
       "      <td>5</td>\n",
       "    </tr>\n",
       "    <tr>\n",
       "      <th>1371</th>\n",
       "      <td>355721</td>\n",
       "      <td>NOPLAK S/ ALCOOL 250ML</td>\n",
       "      <td>NOPLAK 250ML</td>\n",
       "      <td>2</td>\n",
       "    </tr>\n",
       "    <tr>\n",
       "      <th>1526</th>\n",
       "      <td>356920</td>\n",
       "      <td>KIT MAMADEIRA COLORS BICO RED REF 926 (CEFISA)</td>\n",
       "      <td>KIT MAMADEIRA COLORS BICO RED (CEFISA)</td>\n",
       "      <td>6</td>\n",
       "    </tr>\n",
       "    <tr>\n",
       "      <th>177283</th>\n",
       "      <td>56645</td>\n",
       "      <td>AVENE EMULSAO SOLAR TS FPS 70 40G</td>\n",
       "      <td>AVENE EMULSAO SOLAR TS 40G</td>\n",
       "      <td>5</td>\n",
       "    </tr>\n",
       "    <tr>\n",
       "      <th>3542</th>\n",
       "      <td>460190</td>\n",
       "      <td>ESP MIC CIEX 2,5CMX4,5M</td>\n",
       "      <td>ESP MIC CIEX</td>\n",
       "      <td>3</td>\n",
       "    </tr>\n",
       "    <tr>\n",
       "      <th>210239</th>\n",
       "      <td>268953</td>\n",
       "      <td>ESPARADRAPO  25MMX4,5MM NEXCARE</td>\n",
       "      <td>ESPARADRAPO  NEXCARE</td>\n",
       "      <td>2</td>\n",
       "    </tr>\n",
       "    <tr>\n",
       "      <th>12</th>\n",
       "      <td>458516</td>\n",
       "      <td>ISABABY - HAST FLEX BABY C/50</td>\n",
       "      <td>ISABABY - HAST FLEX BABY</td>\n",
       "      <td>5</td>\n",
       "    </tr>\n",
       "    <tr>\n",
       "      <th>2018</th>\n",
       "      <td>357133</td>\n",
       "      <td>TENYS PE BARUEL AEROSOL S/PERFUME 110G</td>\n",
       "      <td>TENYS PE BARUEL AEROSOL  110G</td>\n",
       "      <td>5</td>\n",
       "    </tr>\n",
       "    <tr>\n",
       "      <th>208178</th>\n",
       "      <td>311398</td>\n",
       "      <td>EPISOL HOMEM FPS45 60G</td>\n",
       "      <td>EPISOL HOMEM  60G</td>\n",
       "      <td>3</td>\n",
       "    </tr>\n",
       "    <tr>\n",
       "      <th>210435</th>\n",
       "      <td>212052</td>\n",
       "      <td>CAMOMILA CHA 20G FLORIEN</td>\n",
       "      <td>CAMOMILA CHA 20G FLORIEN</td>\n",
       "      <td>4</td>\n",
       "    </tr>\n",
       "  </tbody>\n",
       "</table>\n",
       "</div>"
      ],
      "text/plain": [
       "            id                                            name  \\\n",
       "10      458515                    BITUFO - PASSA FIO WAY C/ 30   \n",
       "1371    355721                          NOPLAK S/ ALCOOL 250ML   \n",
       "1526    356920  KIT MAMADEIRA COLORS BICO RED REF 926 (CEFISA)   \n",
       "177283   56645               AVENE EMULSAO SOLAR TS FPS 70 40G   \n",
       "3542    460190                         ESP MIC CIEX 2,5CMX4,5M   \n",
       "210239  268953                 ESPARADRAPO  25MMX4,5MM NEXCARE   \n",
       "12      458516                   ISABABY - HAST FLEX BABY C/50   \n",
       "2018    357133          TENYS PE BARUEL AEROSOL S/PERFUME 110G   \n",
       "208178  311398                          EPISOL HOMEM FPS45 60G   \n",
       "210435  212052                        CAMOMILA CHA 20G FLORIEN   \n",
       "\n",
       "                                         clean  num_words  \n",
       "10                      BITUFO - PASSA FIO WAY          5  \n",
       "1371                              NOPLAK 250ML          2  \n",
       "1526    KIT MAMADEIRA COLORS BICO RED (CEFISA)          6  \n",
       "177283              AVENE EMULSAO SOLAR TS 40G          5  \n",
       "3542                              ESP MIC CIEX          3  \n",
       "210239                    ESPARADRAPO  NEXCARE          2  \n",
       "12                    ISABABY - HAST FLEX BABY          5  \n",
       "2018             TENYS PE BARUEL AEROSOL  110G          5  \n",
       "208178                       EPISOL HOMEM  60G          3  \n",
       "210435                CAMOMILA CHA 20G FLORIEN          4  "
      ]
     },
     "execution_count": 31,
     "metadata": {},
     "output_type": "execute_result"
    }
   ],
   "source": [
    "df.loc[[\n",
    "    10, 1371, 1526, 177283, # remove_pairs()\n",
    "    3542, 210239, # remove_metrics() \n",
    "    12, 2018, 208178, # remove_startswith()\n",
    "    210435, # remove_endswith()\n",
    "]]"
   ]
  },
  {
   "cell_type": "code",
   "execution_count": 23,
   "metadata": {},
   "outputs": [],
   "source": [
    "# df.to_csv('outputs/clean.csv', index = False)"
   ]
  },
  {
   "cell_type": "markdown",
   "metadata": {},
   "source": [
    "---"
   ]
  },
  {
   "cell_type": "code",
   "execution_count": 24,
   "metadata": {},
   "outputs": [],
   "source": [
    "# def remove_parenthesis(name):\n",
    "#     pass"
   ]
  },
  {
   "cell_type": "code",
   "execution_count": 25,
   "metadata": {},
   "outputs": [],
   "source": [
    "# Criar coluna indicando quais produtos tiveram o nome modificado"
   ]
  },
  {
   "cell_type": "markdown",
   "metadata": {},
   "source": [
    "To replace:"
   ]
  },
  {
   "cell_type": "code",
   "execution_count": 26,
   "metadata": {},
   "outputs": [],
   "source": [
    "# dict_ = {\n",
    "#     'ABS': 'ABSORVENTE',\n",
    "#     'ESP': 'ESPARADRAPO',\n",
    "#     'SAB': 'SABONETE',\n",
    "#     'DES': 'DESODORANTE',\n",
    "#     'ESC': 'ESCOVA',\n",
    "#     'LOC': 'LOCAO',\n",
    "#     'TRAD': 'TRADICIONAL',\n",
    "#     'CURAT': 'CURATIVO',\n",
    "# }"
   ]
  },
  {
   "cell_type": "code",
   "execution_count": 27,
   "metadata": {},
   "outputs": [],
   "source": [
    "# unique_ = ['ML', 'PET']"
   ]
  }
 ],
 "metadata": {
  "interpreter": {
   "hash": "acb11136433e1efb98de00a145e85b8bf0160d48e03fcada26d6be9bd04c260e"
  },
  "kernelspec": {
   "display_name": "Python 3.10.4 ('.env': venv)",
   "language": "python",
   "name": "python3"
  },
  "language_info": {
   "codemirror_mode": {
    "name": "ipython",
    "version": 3
   },
   "file_extension": ".py",
   "mimetype": "text/x-python",
   "name": "python",
   "nbconvert_exporter": "python",
   "pygments_lexer": "ipython3",
   "version": "3.10.4"
  },
  "orig_nbformat": 4
 },
 "nbformat": 4,
 "nbformat_minor": 2
}
