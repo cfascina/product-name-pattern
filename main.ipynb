{
 "cells": [
  {
   "cell_type": "code",
   "execution_count": 1,
   "metadata": {},
   "outputs": [],
   "source": [
    "import pandas as pd\n",
    "import re"
   ]
  },
  {
   "cell_type": "code",
   "execution_count": 2,
   "metadata": {},
   "outputs": [],
   "source": [
    "df = pd.read_csv('inputs/data_storeproduct_202208111119.csv', usecols = ['id', 'name'])"
   ]
  },
  {
   "cell_type": "code",
   "execution_count": 3,
   "metadata": {},
   "outputs": [
    {
     "data": {
      "text/plain": [
       "(820512, 2)"
      ]
     },
     "execution_count": 3,
     "metadata": {},
     "output_type": "execute_result"
    }
   ],
   "source": [
    "df.shape"
   ]
  },
  {
   "cell_type": "code",
   "execution_count": 4,
   "metadata": {},
   "outputs": [],
   "source": [
    "df.drop_duplicates(subset = 'name', inplace = True)"
   ]
  },
  {
   "cell_type": "code",
   "execution_count": 5,
   "metadata": {},
   "outputs": [
    {
     "data": {
      "text/plain": [
       "(306052, 2)"
      ]
     },
     "execution_count": 5,
     "metadata": {},
     "output_type": "execute_result"
    }
   ],
   "source": [
    "df.shape"
   ]
  },
  {
   "cell_type": "code",
   "execution_count": 6,
   "metadata": {},
   "outputs": [],
   "source": [
    "df['name'] = df['name'].str.upper()"
   ]
  },
  {
   "cell_type": "code",
   "execution_count": 7,
   "metadata": {},
   "outputs": [],
   "source": [
    "df['clean'] = df['name']"
   ]
  },
  {
   "cell_type": "markdown",
   "metadata": {},
   "source": [
    "---"
   ]
  },
  {
   "cell_type": "markdown",
   "metadata": {},
   "source": [
    "### Removes specific characters at the beginning of product names"
   ]
  },
  {
   "cell_type": "code",
   "execution_count": 8,
   "metadata": {},
   "outputs": [],
   "source": [
    "def clean_initial_characters(name):\n",
    "    chars = ['!', '%', '*', '+', ',', '-', '.', '/', '<', '=']\n",
    "\n",
    "    try:\n",
    "        for word in name.split()[0]:\n",
    "            for char_ in word:\n",
    "                if char_ in chars:\n",
    "                    name = name.replace(char_, '')\n",
    "    except:\n",
    "        name = name\n",
    "    \n",
    "    return name    "
   ]
  },
  {
   "cell_type": "code",
   "execution_count": 9,
   "metadata": {},
   "outputs": [],
   "source": [
    "df['clean'] = df['clean'].apply(lambda x: clean_initial_characters(x))"
   ]
  },
  {
   "cell_type": "code",
   "execution_count": 10,
   "metadata": {},
   "outputs": [],
   "source": [
    "# # Tested Items\n",
    "# df.loc[[481395, 295715, 755477, 178663, 484751, 239320, 28118, 280929, 170862, 106470]]"
   ]
  },
  {
   "cell_type": "markdown",
   "metadata": {},
   "source": [
    "---"
   ]
  },
  {
   "cell_type": "markdown",
   "metadata": {},
   "source": [
    "### Removes parentheses"
   ]
  },
  {
   "cell_type": "code",
   "execution_count": 11,
   "metadata": {},
   "outputs": [],
   "source": [
    "df['clean'] = df['clean'].apply(lambda x: re.sub(r'\\([^()]*\\)', '', x))"
   ]
  },
  {
   "cell_type": "code",
   "execution_count": 12,
   "metadata": {},
   "outputs": [],
   "source": [
    "# # Tested Items\n",
    "# df.loc[[743024, 270107, 210205, 295409, 295406, 764575, 208980, 205859, 764574, 796994, 744286]]"
   ]
  },
  {
   "cell_type": "markdown",
   "metadata": {},
   "source": [
    "---"
   ]
  },
  {
   "cell_type": "markdown",
   "metadata": {},
   "source": [
    "### Removes digits at the beginning of product names"
   ]
  },
  {
   "cell_type": "code",
   "execution_count": 13,
   "metadata": {},
   "outputs": [],
   "source": [
    "def clean_initial_digits(name):\n",
    "    try:\n",
    "        first_word = name.split()[0]\n",
    "\n",
    "        if first_word[0].isdigit():\n",
    "            for char_ in first_word:\n",
    "                if char_.isdigit():\n",
    "                    name = name.replace(char_, '')\n",
    "    except:\n",
    "        name = ''\n",
    "\n",
    "    return name"
   ]
  },
  {
   "cell_type": "code",
   "execution_count": 14,
   "metadata": {},
   "outputs": [],
   "source": [
    "df['clean'] = df['clean'].apply(lambda x: clean_initial_digits(x))"
   ]
  },
  {
   "cell_type": "code",
   "execution_count": 15,
   "metadata": {},
   "outputs": [],
   "source": [
    "df['clean'] = df['clean'].apply(lambda x: clean_initial_characters(x))"
   ]
  },
  {
   "cell_type": "code",
   "execution_count": 16,
   "metadata": {},
   "outputs": [],
   "source": [
    "# # Tested Items\n",
    "# df.loc[[743024,638551, 682945, 545029, 337465, 743128, 752302, 337317, 743028]]"
   ]
  },
  {
   "cell_type": "markdown",
   "metadata": {},
   "source": [
    "---"
   ]
  },
  {
   "cell_type": "markdown",
   "metadata": {},
   "source": [
    "### Removes abbreviations"
   ]
  },
  {
   "cell_type": "code",
   "execution_count": 17,
   "metadata": {},
   "outputs": [],
   "source": [
    "def clean_abbrs(name):\n",
    "    abbrs = ['REF', 'REF.', 'C/', 'S/', 'P/', 'FPS']\n",
    "    to_remove = []\n",
    "    words = name.split()\n",
    "\n",
    "    for word in words:\n",
    "        if word in abbrs:\n",
    "            to_remove.append(word)\n",
    "            try:\n",
    "                to_remove.append(words[words.index(word) + 1])\n",
    "            except:\n",
    "                pass\n",
    "        elif word.startswith(tuple(abbrs)):\n",
    "            for abbr in abbrs:\n",
    "                if word.startswith(abbr) and word[len(abbr):][0].isdigit():\n",
    "                    to_remove.append(word)\n",
    "\n",
    "\n",
    "    return ' '.join([word for word in words if word not in to_remove])"
   ]
  },
  {
   "cell_type": "code",
   "execution_count": 18,
   "metadata": {},
   "outputs": [],
   "source": [
    "df['clean'] = df['clean'].apply(lambda x: clean_abbrs(x))"
   ]
  },
  {
   "cell_type": "code",
   "execution_count": 19,
   "metadata": {},
   "outputs": [
    {
     "data": {
      "text/html": [
       "<div>\n",
       "<style scoped>\n",
       "    .dataframe tbody tr th:only-of-type {\n",
       "        vertical-align: middle;\n",
       "    }\n",
       "\n",
       "    .dataframe tbody tr th {\n",
       "        vertical-align: top;\n",
       "    }\n",
       "\n",
       "    .dataframe thead th {\n",
       "        text-align: right;\n",
       "    }\n",
       "</style>\n",
       "<table border=\"1\" class=\"dataframe\">\n",
       "  <thead>\n",
       "    <tr style=\"text-align: right;\">\n",
       "      <th></th>\n",
       "      <th>id</th>\n",
       "      <th>name</th>\n",
       "      <th>clean</th>\n",
       "    </tr>\n",
       "  </thead>\n",
       "  <tbody>\n",
       "    <tr>\n",
       "      <th>507889</th>\n",
       "      <td>217577</td>\n",
       "      <td>AGULHA 1,20X40 MM REF 07455</td>\n",
       "      <td>AGULHA 1,20X40 MM</td>\n",
       "    </tr>\n",
       "    <tr>\n",
       "      <th>308443</th>\n",
       "      <td>3802</td>\n",
       "      <td>BUCHA VEGETAL OVAL NINA REF3020</td>\n",
       "      <td>BUCHA VEGETAL OVAL NINA</td>\n",
       "    </tr>\n",
       "    <tr>\n",
       "      <th>814522</th>\n",
       "      <td>1019445</td>\n",
       "      <td>CAMINHAO INVICTUS BASCULANTE REF. 1042</td>\n",
       "      <td>CAMINHAO INVICTUS BASCULANTE</td>\n",
       "    </tr>\n",
       "    <tr>\n",
       "      <th>708421</th>\n",
       "      <td>244806</td>\n",
       "      <td>BUCHA VEGETAL ZALIKE JUNIOR REF.325</td>\n",
       "      <td>BUCHA VEGETAL ZALIKE JUNIOR</td>\n",
       "    </tr>\n",
       "    <tr>\n",
       "      <th>800889</th>\n",
       "      <td>425125</td>\n",
       "      <td>CAMOMINE C BABY C/ 20 CP</td>\n",
       "      <td>CAMOMINE C BABY CP</td>\n",
       "    </tr>\n",
       "    <tr>\n",
       "      <th>773057</th>\n",
       "      <td>421983</td>\n",
       "      <td>CAMOMINE C BABY C/20 CAPS</td>\n",
       "      <td>CAMOMINE C BABY CAPS</td>\n",
       "    </tr>\n",
       "    <tr>\n",
       "      <th>671045</th>\n",
       "      <td>52374</td>\n",
       "      <td>CERAVE GEL DE LIMPEZA S/ PERF 454ML</td>\n",
       "      <td>CERAVE GEL DE LIMPEZA 454ML</td>\n",
       "    </tr>\n",
       "    <tr>\n",
       "      <th>583425</th>\n",
       "      <td>439330</td>\n",
       "      <td>CENTRO ACTIVE SENIOR S/SABOR</td>\n",
       "      <td>CENTRO ACTIVE SENIOR S/SABOR</td>\n",
       "    </tr>\n",
       "    <tr>\n",
       "      <th>582548</th>\n",
       "      <td>481998</td>\n",
       "      <td>CENOURA &amp; BRONZE FPS 15</td>\n",
       "      <td>CENOURA &amp; BRONZE</td>\n",
       "    </tr>\n",
       "    <tr>\n",
       "      <th>700178</th>\n",
       "      <td>349386</td>\n",
       "      <td>CAPITAL SOLEIL FPS30 T SEC 40G</td>\n",
       "      <td>CAPITAL SOLEIL T SEC 40G</td>\n",
       "    </tr>\n",
       "    <tr>\n",
       "      <th>318441</th>\n",
       "      <td>403824</td>\n",
       "      <td>CERAVE CREME REPARADOR P/ MAOS S/ PERFUME 100G</td>\n",
       "      <td>CERAVE CREME REPARADOR 100G</td>\n",
       "    </tr>\n",
       "    <tr>\n",
       "      <th>318442</th>\n",
       "      <td>404007</td>\n",
       "      <td>CERAVE CREME REPARADOR P/ OLHOS 14ML</td>\n",
       "      <td>CERAVE CREME REPARADOR 14ML</td>\n",
       "    </tr>\n",
       "    <tr>\n",
       "      <th>214566</th>\n",
       "      <td>229952</td>\n",
       "      <td>CERAVE CREME REPARADOR P/AS MAOS 48 GRS</td>\n",
       "      <td>CERAVE CREME REPARADOR P/AS MAOS 48 GRS</td>\n",
       "    </tr>\n",
       "    <tr>\n",
       "      <th>632491</th>\n",
       "      <td>303631</td>\n",
       "      <td>REFIL 250ML DIFUSOR BREEZE</td>\n",
       "      <td>REFIL 250ML DIFUSOR BREEZE</td>\n",
       "    </tr>\n",
       "    <tr>\n",
       "      <th>480583</th>\n",
       "      <td>470718</td>\n",
       "      <td>REFORGAN 20CP</td>\n",
       "      <td>REFORGAN 20CP</td>\n",
       "    </tr>\n",
       "    <tr>\n",
       "      <th>733038</th>\n",
       "      <td>392836</td>\n",
       "      <td>REFORMTABS 30 CP A ZAMBON .</td>\n",
       "      <td>REFORMTABS 30 CP A ZAMBON .</td>\n",
       "    </tr>\n",
       "    <tr>\n",
       "      <th>407674</th>\n",
       "      <td>956111</td>\n",
       "      <td>REFRESH 30 FLACONETES</td>\n",
       "      <td>REFRESH 30 FLACONETES</td>\n",
       "    </tr>\n",
       "    <tr>\n",
       "      <th>658417</th>\n",
       "      <td>333145</td>\n",
       "      <td>REFRIGERANTE GUARANA 350ML</td>\n",
       "      <td>REFRIGERANTE GUARANA 350ML</td>\n",
       "    </tr>\n",
       "  </tbody>\n",
       "</table>\n",
       "</div>"
      ],
      "text/plain": [
       "             id                                            name  \\\n",
       "507889   217577                     AGULHA 1,20X40 MM REF 07455   \n",
       "308443     3802                 BUCHA VEGETAL OVAL NINA REF3020   \n",
       "814522  1019445          CAMINHAO INVICTUS BASCULANTE REF. 1042   \n",
       "708421   244806             BUCHA VEGETAL ZALIKE JUNIOR REF.325   \n",
       "800889   425125                        CAMOMINE C BABY C/ 20 CP   \n",
       "773057   421983                       CAMOMINE C BABY C/20 CAPS   \n",
       "671045    52374             CERAVE GEL DE LIMPEZA S/ PERF 454ML   \n",
       "583425   439330                    CENTRO ACTIVE SENIOR S/SABOR   \n",
       "582548   481998                         CENOURA & BRONZE FPS 15   \n",
       "700178   349386                  CAPITAL SOLEIL FPS30 T SEC 40G   \n",
       "318441   403824  CERAVE CREME REPARADOR P/ MAOS S/ PERFUME 100G   \n",
       "318442   404007            CERAVE CREME REPARADOR P/ OLHOS 14ML   \n",
       "214566   229952         CERAVE CREME REPARADOR P/AS MAOS 48 GRS   \n",
       "632491   303631                      REFIL 250ML DIFUSOR BREEZE   \n",
       "480583   470718                                   REFORGAN 20CP   \n",
       "733038   392836                     REFORMTABS 30 CP A ZAMBON .   \n",
       "407674   956111                           REFRESH 30 FLACONETES   \n",
       "658417   333145                      REFRIGERANTE GUARANA 350ML   \n",
       "\n",
       "                                          clean  \n",
       "507889                        AGULHA 1,20X40 MM  \n",
       "308443                  BUCHA VEGETAL OVAL NINA  \n",
       "814522             CAMINHAO INVICTUS BASCULANTE  \n",
       "708421              BUCHA VEGETAL ZALIKE JUNIOR  \n",
       "800889                       CAMOMINE C BABY CP  \n",
       "773057                     CAMOMINE C BABY CAPS  \n",
       "671045              CERAVE GEL DE LIMPEZA 454ML  \n",
       "583425             CENTRO ACTIVE SENIOR S/SABOR  \n",
       "582548                         CENOURA & BRONZE  \n",
       "700178                 CAPITAL SOLEIL T SEC 40G  \n",
       "318441              CERAVE CREME REPARADOR 100G  \n",
       "318442              CERAVE CREME REPARADOR 14ML  \n",
       "214566  CERAVE CREME REPARADOR P/AS MAOS 48 GRS  \n",
       "632491               REFIL 250ML DIFUSOR BREEZE  \n",
       "480583                            REFORGAN 20CP  \n",
       "733038              REFORMTABS 30 CP A ZAMBON .  \n",
       "407674                    REFRESH 30 FLACONETES  \n",
       "658417               REFRIGERANTE GUARANA 350ML  "
      ]
     },
     "execution_count": 19,
     "metadata": {},
     "output_type": "execute_result"
    }
   ],
   "source": [
    "# Tested Items\n",
    "df.loc[[\n",
    "    507889, 308443, 814522, 708421, 800889, 773057, 671045, 583425, 582548, \n",
    "    700178, 318441, 318442, 214566, 632491, 480583, 733038, 407674, 658417\n",
    "]]"
   ]
  },
  {
   "cell_type": "markdown",
   "metadata": {},
   "source": [
    "---"
   ]
  },
  {
   "cell_type": "markdown",
   "metadata": {},
   "source": [
    "### Creates a CSV file with cleaned names"
   ]
  },
  {
   "cell_type": "code",
   "execution_count": 20,
   "metadata": {},
   "outputs": [],
   "source": [
    "df['clean'] = df['clean'].str.strip()"
   ]
  },
  {
   "cell_type": "code",
   "execution_count": 21,
   "metadata": {},
   "outputs": [],
   "source": [
    "df['had_changes'] = df['clean'] != df['name']"
   ]
  },
  {
   "cell_type": "code",
   "execution_count": 22,
   "metadata": {},
   "outputs": [],
   "source": [
    "df['num_words'] = df['clean'].apply(lambda x: len(str(x).split()))"
   ]
  },
  {
   "cell_type": "code",
   "execution_count": 23,
   "metadata": {},
   "outputs": [],
   "source": [
    "df.sort_values(by = 'clean', inplace = True)"
   ]
  },
  {
   "cell_type": "code",
   "execution_count": 24,
   "metadata": {},
   "outputs": [],
   "source": [
    "df.to_csv('outputs/clean.csv', index = False)"
   ]
  },
  {
   "cell_type": "markdown",
   "metadata": {},
   "source": [
    "---"
   ]
  },
  {
   "cell_type": "markdown",
   "metadata": {},
   "source": [
    "### Metrics"
   ]
  },
  {
   "cell_type": "code",
   "execution_count": 25,
   "metadata": {},
   "outputs": [
    {
     "name": "stdout",
     "output_type": "stream",
     "text": [
      "Items\n",
      "-----\n",
      "Total: 306052\n",
      "Changed: 87037\n",
      "Not Changed: 219015\n"
     ]
    }
   ],
   "source": [
    "print(f\"Items\\n{'-' * len('Items')}\")\n",
    "print(f\"Total: {df.shape[0]}\")\n",
    "print(f\"Changed: {len(df[df['had_changes'] == True])}\")\n",
    "print(f\"Not Changed: {len(df[df['had_changes'] == False])}\")\n",
    "\n",
    "# TOTAL     CHANGED     NOT CHANGED\n",
    "# 306.052   36.829      269.223\n",
    "# 306.052   87.037      219.015"
   ]
  },
  {
   "cell_type": "code",
   "execution_count": 26,
   "metadata": {},
   "outputs": [
    {
     "name": "stdout",
     "output_type": "stream",
     "text": [
      "Unique Items\n",
      "------------\n",
      "Original dataset: 306051\n",
      "Cleaned dataset: 297616\n",
      "Unified items: 8435\n"
     ]
    }
   ],
   "source": [
    "print(f\"Unique Items\\n{'-' * len('Unique Items')}\")\n",
    "print(f\"Original dataset: {df['name'].nunique()}\")\n",
    "print(f\"Cleaned dataset: {df['clean'].nunique()}\")\n",
    "print(f\"Unified items: {df['name'].nunique() - df['clean'].nunique()}\")\n",
    "\n",
    "# ORIGINAL      CLEANED     UNIFIED\n",
    "# 306.051       303.710     2.341\n",
    "# 306.051       297.616     8.435"
   ]
  },
  {
   "cell_type": "markdown",
   "metadata": {},
   "source": [
    "---"
   ]
  },
  {
   "cell_type": "code",
   "execution_count": 27,
   "metadata": {},
   "outputs": [
    {
     "data": {
      "text/html": [
       "<div>\n",
       "<style scoped>\n",
       "    .dataframe tbody tr th:only-of-type {\n",
       "        vertical-align: middle;\n",
       "    }\n",
       "\n",
       "    .dataframe tbody tr th {\n",
       "        vertical-align: top;\n",
       "    }\n",
       "\n",
       "    .dataframe thead th {\n",
       "        text-align: right;\n",
       "    }\n",
       "</style>\n",
       "<table border=\"1\" class=\"dataframe\">\n",
       "  <thead>\n",
       "    <tr style=\"text-align: right;\">\n",
       "      <th></th>\n",
       "      <th>id</th>\n",
       "      <th>name</th>\n",
       "      <th>clean</th>\n",
       "      <th>had_changes</th>\n",
       "      <th>num_words</th>\n",
       "    </tr>\n",
       "  </thead>\n",
       "  <tbody>\n",
       "    <tr>\n",
       "      <th>632491</th>\n",
       "      <td>303631</td>\n",
       "      <td>REFIL 250ML DIFUSOR BREEZE</td>\n",
       "      <td>REFIL 250ML DIFUSOR BREEZE</td>\n",
       "      <td>False</td>\n",
       "      <td>4</td>\n",
       "    </tr>\n",
       "    <tr>\n",
       "      <th>480583</th>\n",
       "      <td>470718</td>\n",
       "      <td>REFORGAN 20CP</td>\n",
       "      <td>REFORGAN 20CP</td>\n",
       "      <td>False</td>\n",
       "      <td>2</td>\n",
       "    </tr>\n",
       "    <tr>\n",
       "      <th>733038</th>\n",
       "      <td>392836</td>\n",
       "      <td>REFORMTABS 30 CP A ZAMBON .</td>\n",
       "      <td>REFORMTABS 30 CP A ZAMBON .</td>\n",
       "      <td>False</td>\n",
       "      <td>6</td>\n",
       "    </tr>\n",
       "    <tr>\n",
       "      <th>407674</th>\n",
       "      <td>956111</td>\n",
       "      <td>REFRESH 30 FLACONETES</td>\n",
       "      <td>REFRESH 30 FLACONETES</td>\n",
       "      <td>False</td>\n",
       "      <td>3</td>\n",
       "    </tr>\n",
       "    <tr>\n",
       "      <th>658417</th>\n",
       "      <td>333145</td>\n",
       "      <td>REFRIGERANTE GUARANA 350ML</td>\n",
       "      <td>REFRIGERANTE GUARANA 350ML</td>\n",
       "      <td>False</td>\n",
       "      <td>3</td>\n",
       "    </tr>\n",
       "    <tr>\n",
       "      <th>42054</th>\n",
       "      <td>256044</td>\n",
       "      <td>REFRIG.PEPSI 200ML</td>\n",
       "      <td>REFRIGPEPSI 200ML</td>\n",
       "      <td>True</td>\n",
       "      <td>2</td>\n",
       "    </tr>\n",
       "  </tbody>\n",
       "</table>\n",
       "</div>"
      ],
      "text/plain": [
       "            id                         name                        clean  \\\n",
       "632491  303631   REFIL 250ML DIFUSOR BREEZE   REFIL 250ML DIFUSOR BREEZE   \n",
       "480583  470718                REFORGAN 20CP                REFORGAN 20CP   \n",
       "733038  392836  REFORMTABS 30 CP A ZAMBON .  REFORMTABS 30 CP A ZAMBON .   \n",
       "407674  956111        REFRESH 30 FLACONETES        REFRESH 30 FLACONETES   \n",
       "658417  333145   REFRIGERANTE GUARANA 350ML   REFRIGERANTE GUARANA 350ML   \n",
       "42054   256044           REFRIG.PEPSI 200ML            REFRIGPEPSI 200ML   \n",
       "\n",
       "        had_changes  num_words  \n",
       "632491        False          4  \n",
       "480583        False          2  \n",
       "733038        False          6  \n",
       "407674        False          3  \n",
       "658417        False          3  \n",
       "42054          True          2  "
      ]
     },
     "execution_count": 27,
     "metadata": {},
     "output_type": "execute_result"
    }
   ],
   "source": [
    "# df[df['id'].isin([256044, 470718, 392836, 303631, 956111, 333145])]"
   ]
  },
  {
   "cell_type": "code",
   "execution_count": 28,
   "metadata": {},
   "outputs": [],
   "source": [
    "# def remove_metrics(name):\n",
    "#     to_remove = []\n",
    "    \n",
    "#     for word in name.split():\n",
    "#         if word[0].isdigit() and 'X' in word and word[-1] == 'M':\n",
    "#             to_remove.append(word)\n",
    "\n",
    "#     if len(to_remove) > 0:\n",
    "#         return ''. join([name.replace(x, '') for x in to_remove])\n",
    "    \n",
    "#     return name"
   ]
  },
  {
   "cell_type": "code",
   "execution_count": 29,
   "metadata": {},
   "outputs": [],
   "source": [
    "# df['clean'] = df['clean'].apply(lambda x: remove_metrics(x))"
   ]
  },
  {
   "cell_type": "code",
   "execution_count": 30,
   "metadata": {},
   "outputs": [],
   "source": [
    "# def remove_endswith(pattern):\n",
    "#     return lambda words: words.replace(''.join([x for x in words.split() if x.endswith(pattern) and x[:-len(pattern)].isdigit()]), '')"
   ]
  },
  {
   "cell_type": "code",
   "execution_count": 31,
   "metadata": {},
   "outputs": [],
   "source": [
    "# endswith_ = ['G', 'L', 'ML', 'MG' , 'UN', 'GR', 'CP', 'CPS', 'VOL', 'CAP', 'UNID', 'UNID.', 'KG']"
   ]
  },
  {
   "cell_type": "code",
   "execution_count": 32,
   "metadata": {},
   "outputs": [],
   "source": [
    "# for i in endswith_:\n",
    "#     df['clean'] = df['clean'].apply(remove_endswith(i))"
   ]
  },
  {
   "cell_type": "markdown",
   "metadata": {},
   "source": [
    "---"
   ]
  },
  {
   "cell_type": "code",
   "execution_count": 33,
   "metadata": {},
   "outputs": [],
   "source": [
    "# Unique\n",
    "# unique_ = ['COMP', 'CAPS', 'CAPS.', 'CX', 'CX.', 'INJ', 'UN', 'ML', 'PET', 'C', 'GFA']"
   ]
  },
  {
   "cell_type": "code",
   "execution_count": 34,
   "metadata": {},
   "outputs": [],
   "source": [
    "# dict_ = {\n",
    "#     'TX': 'TAXA',\n",
    "#     'ABS': 'ABSORVENTE',\n",
    "#     'ESP': 'ESPARADRAPO',\n",
    "#     'SAB': 'SABONETE',\n",
    "#     'DES': 'DESODORANTE',\n",
    "#     'ESC': 'ESCOVA',\n",
    "#     'LOC': 'LOCAO',\n",
    "#     'PERF': 'PERFUME',\n",
    "#     'TRAD': 'TRADICIONAL',\n",
    "#     'CURAT': 'CURATIVO',\n",
    "# }"
   ]
  }
 ],
 "metadata": {
  "interpreter": {
   "hash": "acb11136433e1efb98de00a145e85b8bf0160d48e03fcada26d6be9bd04c260e"
  },
  "kernelspec": {
   "display_name": "Python 3.10.4 ('.env': venv)",
   "language": "python",
   "name": "python3"
  },
  "language_info": {
   "codemirror_mode": {
    "name": "ipython",
    "version": 3
   },
   "file_extension": ".py",
   "mimetype": "text/x-python",
   "name": "python",
   "nbconvert_exporter": "python",
   "pygments_lexer": "ipython3",
   "version": "3.10.4"
  },
  "orig_nbformat": 4
 },
 "nbformat": 4,
 "nbformat_minor": 2
}
