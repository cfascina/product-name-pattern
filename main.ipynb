{
 "cells": [
  {
   "cell_type": "code",
   "execution_count": 38,
   "metadata": {},
   "outputs": [],
   "source": [
    "# NAO USAR A TABELA data_product, E SIM A store_product!!"
   ]
  },
  {
   "cell_type": "code",
   "execution_count": 39,
   "metadata": {},
   "outputs": [],
   "source": [
    "import pandas as pd"
   ]
  },
  {
   "cell_type": "code",
   "execution_count": 40,
   "metadata": {},
   "outputs": [],
   "source": [
    "df = pd.read_csv('inputs/data_product_202208091047.csv', usecols = ['id', 'barcode', 'name'])"
   ]
  },
  {
   "cell_type": "code",
   "execution_count": 41,
   "metadata": {},
   "outputs": [
    {
     "data": {
      "text/plain": [
       "(69111, 3)"
      ]
     },
     "execution_count": 41,
     "metadata": {},
     "output_type": "execute_result"
    }
   ],
   "source": [
    "df.shape"
   ]
  },
  {
   "cell_type": "code",
   "execution_count": 42,
   "metadata": {},
   "outputs": [
    {
     "data": {
      "text/plain": [
       "48879"
      ]
     },
     "execution_count": 42,
     "metadata": {},
     "output_type": "execute_result"
    }
   ],
   "source": [
    "df['name'].nunique()\n"
   ]
  },
  {
   "cell_type": "code",
   "execution_count": 43,
   "metadata": {},
   "outputs": [],
   "source": [
    "df.drop_duplicates(subset = 'name', inplace = True)"
   ]
  },
  {
   "cell_type": "code",
   "execution_count": 44,
   "metadata": {},
   "outputs": [
    {
     "data": {
      "text/plain": [
       "(48879, 3)"
      ]
     },
     "execution_count": 44,
     "metadata": {},
     "output_type": "execute_result"
    }
   ],
   "source": [
    "df.shape"
   ]
  },
  {
   "cell_type": "code",
   "execution_count": 45,
   "metadata": {},
   "outputs": [],
   "source": [
    "df['name'] = df['name'].astype(str)"
   ]
  },
  {
   "cell_type": "code",
   "execution_count": 46,
   "metadata": {},
   "outputs": [],
   "source": [
    "df['name'] = df['name'].str.upper()"
   ]
  },
  {
   "cell_type": "code",
   "execution_count": 47,
   "metadata": {},
   "outputs": [],
   "source": [
    "df['cleaned'] = df['name']"
   ]
  },
  {
   "cell_type": "code",
   "execution_count": 48,
   "metadata": {},
   "outputs": [],
   "source": [
    "endswith_ = {\n",
    "    'G':    -len('G'),\n",
    "    'L':    -len('L'),\n",
    "    'UN':   -len('UN'),\n",
    "    'ML':   -len('ML'),\n",
    "    'GR':   -len('GR'),\n",
    "    'CPS':  -len('CPS'),\n",
    "    'VOL':  -len('VOL'),\n",
    "    'CAP':  -len('CAP')\n",
    "}"
   ]
  },
  {
   "cell_type": "code",
   "execution_count": 49,
   "metadata": {},
   "outputs": [],
   "source": [
    "def remove_endswith(name, numbers):\n",
    "    return lambda words: words.replace(''.join([x for x in words.split(' ') if x.endswith(name) and x[:numbers].isdigit()]), '')"
   ]
  },
  {
   "cell_type": "code",
   "execution_count": 50,
   "metadata": {},
   "outputs": [],
   "source": [
    "for k, v in endswith_.items():\n",
    "    df['cleaned'] = df['cleaned'].apply(remove_endswith(k, v))"
   ]
  },
  {
   "cell_type": "code",
   "execution_count": 95,
   "metadata": {},
   "outputs": [],
   "source": [
    "startswith_ = ['(', 'REF', 'C/', 'S/']"
   ]
  },
  {
   "cell_type": "code",
   "execution_count": 96,
   "metadata": {},
   "outputs": [],
   "source": [
    "def remove_startswith(name):\n",
    "    return lambda words: words.replace(''.join([x for x in words.split(' ') if x.startswith(name)]), '')"
   ]
  },
  {
   "cell_type": "code",
   "execution_count": 97,
   "metadata": {},
   "outputs": [],
   "source": [
    "for name in startswith_:\n",
    "    df['cleaned'] = df['cleaned'].apply(remove_startswith(name))"
   ]
  },
  {
   "cell_type": "code",
   "execution_count": 98,
   "metadata": {},
   "outputs": [],
   "source": [
    "df['cleaned'] = df['cleaned'].str.strip()"
   ]
  },
  {
   "cell_type": "code",
   "execution_count": 99,
   "metadata": {},
   "outputs": [],
   "source": [
    "df['num_words'] = df['cleaned'].apply(lambda x: len(str(x).split(' ')))"
   ]
  },
  {
   "cell_type": "code",
   "execution_count": 128,
   "metadata": {},
   "outputs": [],
   "source": [
    "items_cleaned = [\n",
    "    48, 57, 58, 60, 76, 77, 82, 83, 84, 88, 94, 102, 106, 116\n",
    "]"
   ]
  },
  {
   "cell_type": "code",
   "execution_count": 129,
   "metadata": {},
   "outputs": [
    {
     "data": {
      "text/html": [
       "<div>\n",
       "<style scoped>\n",
       "    .dataframe tbody tr th:only-of-type {\n",
       "        vertical-align: middle;\n",
       "    }\n",
       "\n",
       "    .dataframe tbody tr th {\n",
       "        vertical-align: top;\n",
       "    }\n",
       "\n",
       "    .dataframe thead th {\n",
       "        text-align: right;\n",
       "    }\n",
       "</style>\n",
       "<table border=\"1\" class=\"dataframe\">\n",
       "  <thead>\n",
       "    <tr style=\"text-align: right;\">\n",
       "      <th></th>\n",
       "      <th>id</th>\n",
       "      <th>barcode</th>\n",
       "      <th>name</th>\n",
       "      <th>cleaned</th>\n",
       "      <th>num_words</th>\n",
       "    </tr>\n",
       "  </thead>\n",
       "  <tbody>\n",
       "    <tr>\n",
       "      <th>47</th>\n",
       "      <td>48</td>\n",
       "      <td>7896083409235</td>\n",
       "      <td>BIOSLIM PLUS 4 90CAP</td>\n",
       "      <td>BIOSLIM PLUS 4</td>\n",
       "      <td>3</td>\n",
       "    </tr>\n",
       "    <tr>\n",
       "      <th>56</th>\n",
       "      <td>57</td>\n",
       "      <td>7891721017377</td>\n",
       "      <td>CR GEL UNIVERSAL FPS20 45G</td>\n",
       "      <td>CR GEL UNIVERSAL FPS20</td>\n",
       "      <td>4</td>\n",
       "    </tr>\n",
       "    <tr>\n",
       "      <th>57</th>\n",
       "      <td>58</td>\n",
       "      <td>7891800348361</td>\n",
       "      <td>CURAT CREMER BARBIE 25UN</td>\n",
       "      <td>CURAT CREMER BARBIE</td>\n",
       "      <td>3</td>\n",
       "    </tr>\n",
       "    <tr>\n",
       "      <th>59</th>\n",
       "      <td>60</td>\n",
       "      <td>7896040704120</td>\n",
       "      <td>AMACIANTE VIDA MACIA 1L</td>\n",
       "      <td>AMACIANTE VIDA MACIA</td>\n",
       "      <td>3</td>\n",
       "    </tr>\n",
       "    <tr>\n",
       "      <th>75</th>\n",
       "      <td>76</td>\n",
       "      <td>7891142142979</td>\n",
       "      <td>EPIDRAT SENSI SH 120ML</td>\n",
       "      <td>EPIDRAT SENSI SH</td>\n",
       "      <td>3</td>\n",
       "    </tr>\n",
       "    <tr>\n",
       "      <th>76</th>\n",
       "      <td>77</td>\n",
       "      <td>7898064034801</td>\n",
       "      <td>ABS AFFECTIVE ELASTIC C/10 (FR10)</td>\n",
       "      <td>ABS AFFECTIVE ELASTIC</td>\n",
       "      <td>3</td>\n",
       "    </tr>\n",
       "    <tr>\n",
       "      <th>81</th>\n",
       "      <td>82</td>\n",
       "      <td>7896025514126</td>\n",
       "      <td>ESC MARCO BONI REF7665T</td>\n",
       "      <td>ESC MARCO BONI</td>\n",
       "      <td>3</td>\n",
       "    </tr>\n",
       "    <tr>\n",
       "      <th>82</th>\n",
       "      <td>83</td>\n",
       "      <td>7896025508927</td>\n",
       "      <td>ESC MARCO BONI REF7951</td>\n",
       "      <td>ESC MARCO BONI</td>\n",
       "      <td>3</td>\n",
       "    </tr>\n",
       "    <tr>\n",
       "      <th>83</th>\n",
       "      <td>84</td>\n",
       "      <td>7898312327488</td>\n",
       "      <td>ESC PROART BAMBU REF 73252</td>\n",
       "      <td>ESC PROART BAMBU  73252</td>\n",
       "      <td>5</td>\n",
       "    </tr>\n",
       "    <tr>\n",
       "      <th>87</th>\n",
       "      <td>88</td>\n",
       "      <td>4015400151715</td>\n",
       "      <td>ABS TAMPAX COMPAK C/8 SUPER</td>\n",
       "      <td>ABS TAMPAX COMPAK  SUPER</td>\n",
       "      <td>5</td>\n",
       "    </tr>\n",
       "    <tr>\n",
       "      <th>93</th>\n",
       "      <td>94</td>\n",
       "      <td>7897700002013</td>\n",
       "      <td>ACEROLA E ROSA SILVESTRE  80CPS</td>\n",
       "      <td>ACEROLA E ROSA SILVESTRE</td>\n",
       "      <td>4</td>\n",
       "    </tr>\n",
       "    <tr>\n",
       "      <th>101</th>\n",
       "      <td>102</td>\n",
       "      <td>7898943477613</td>\n",
       "      <td>ACQUAFLORA EMULSAO REVELADORA 20VOL 90ML OX2090</td>\n",
       "      <td>ACQUAFLORA EMULSAO REVELADORA   OX2090</td>\n",
       "      <td>6</td>\n",
       "    </tr>\n",
       "    <tr>\n",
       "      <th>105</th>\n",
       "      <td>106</td>\n",
       "      <td>7891024179925</td>\n",
       "      <td>ENX PERIOGARD S/ALCOOL 250ML</td>\n",
       "      <td>ENX PERIOGARD</td>\n",
       "      <td>2</td>\n",
       "    </tr>\n",
       "    <tr>\n",
       "      <th>68943</th>\n",
       "      <td>116</td>\n",
       "      <td>76660008663</td>\n",
       "      <td>FIXODENT ORIGINAL 68G</td>\n",
       "      <td>FIXODENT ORIGINAL</td>\n",
       "      <td>2</td>\n",
       "    </tr>\n",
       "  </tbody>\n",
       "</table>\n",
       "</div>"
      ],
      "text/plain": [
       "        id        barcode                                             name  \\\n",
       "47      48  7896083409235                             BIOSLIM PLUS 4 90CAP   \n",
       "56      57  7891721017377                       CR GEL UNIVERSAL FPS20 45G   \n",
       "57      58  7891800348361                         CURAT CREMER BARBIE 25UN   \n",
       "59      60  7896040704120                          AMACIANTE VIDA MACIA 1L   \n",
       "75      76  7891142142979                           EPIDRAT SENSI SH 120ML   \n",
       "76      77  7898064034801                ABS AFFECTIVE ELASTIC C/10 (FR10)   \n",
       "81      82  7896025514126                          ESC MARCO BONI REF7665T   \n",
       "82      83  7896025508927                           ESC MARCO BONI REF7951   \n",
       "83      84  7898312327488                       ESC PROART BAMBU REF 73252   \n",
       "87      88  4015400151715                      ABS TAMPAX COMPAK C/8 SUPER   \n",
       "93      94  7897700002013                  ACEROLA E ROSA SILVESTRE  80CPS   \n",
       "101    102  7898943477613  ACQUAFLORA EMULSAO REVELADORA 20VOL 90ML OX2090   \n",
       "105    106  7891024179925                     ENX PERIOGARD S/ALCOOL 250ML   \n",
       "68943  116    76660008663                            FIXODENT ORIGINAL 68G   \n",
       "\n",
       "                                      cleaned  num_words  \n",
       "47                             BIOSLIM PLUS 4          3  \n",
       "56                     CR GEL UNIVERSAL FPS20          4  \n",
       "57                        CURAT CREMER BARBIE          3  \n",
       "59                       AMACIANTE VIDA MACIA          3  \n",
       "75                           EPIDRAT SENSI SH          3  \n",
       "76                      ABS AFFECTIVE ELASTIC          3  \n",
       "81                             ESC MARCO BONI          3  \n",
       "82                             ESC MARCO BONI          3  \n",
       "83                    ESC PROART BAMBU  73252          5  \n",
       "87                   ABS TAMPAX COMPAK  SUPER          5  \n",
       "93                   ACEROLA E ROSA SILVESTRE          4  \n",
       "101    ACQUAFLORA EMULSAO REVELADORA   OX2090          6  \n",
       "105                             ENX PERIOGARD          2  \n",
       "68943                       FIXODENT ORIGINAL          2  "
      ]
     },
     "execution_count": 129,
     "metadata": {},
     "output_type": "execute_result"
    }
   ],
   "source": [
    "df[df['id'].isin(items_cleaned)]"
   ]
  },
  {
   "cell_type": "code",
   "execution_count": 137,
   "metadata": {},
   "outputs": [],
   "source": [
    "df.sort_values(by = 'cleaned', inplace = True)"
   ]
  },
  {
   "cell_type": "code",
   "execution_count": null,
   "metadata": {},
   "outputs": [],
   "source": [
    "df.to_csv('output.csv')"
   ]
  },
  {
   "cell_type": "markdown",
   "metadata": {},
   "source": [
    "---"
   ]
  },
  {
   "cell_type": "code",
   "execution_count": 144,
   "metadata": {},
   "outputs": [
    {
     "data": {
      "text/html": [
       "<div>\n",
       "<style scoped>\n",
       "    .dataframe tbody tr th:only-of-type {\n",
       "        vertical-align: middle;\n",
       "    }\n",
       "\n",
       "    .dataframe tbody tr th {\n",
       "        vertical-align: top;\n",
       "    }\n",
       "\n",
       "    .dataframe thead th {\n",
       "        text-align: right;\n",
       "    }\n",
       "</style>\n",
       "<table border=\"1\" class=\"dataframe\">\n",
       "  <thead>\n",
       "    <tr style=\"text-align: right;\">\n",
       "      <th></th>\n",
       "      <th>id</th>\n",
       "      <th>barcode</th>\n",
       "      <th>name</th>\n",
       "      <th>cleaned</th>\n",
       "      <th>num_words</th>\n",
       "    </tr>\n",
       "  </thead>\n",
       "  <tbody>\n",
       "    <tr>\n",
       "      <th>116</th>\n",
       "      <td>118</td>\n",
       "      <td>7891463000866</td>\n",
       "      <td>ABOCATE  (ANGIOCATH) INTRAV16</td>\n",
       "      <td>ABOCATE   INTRAV16</td>\n",
       "      <td>4</td>\n",
       "    </tr>\n",
       "    <tr>\n",
       "      <th>120</th>\n",
       "      <td>122</td>\n",
       "      <td>7891338700105</td>\n",
       "      <td>ACTISORB PLUS 10.5X10.5CM MAP105</td>\n",
       "      <td>ACTISORB PLUS 10.5X10.5CM MAP105</td>\n",
       "      <td>4</td>\n",
       "    </tr>\n",
       "    <tr>\n",
       "      <th>167</th>\n",
       "      <td>169</td>\n",
       "      <td>7898225526923</td>\n",
       "      <td>ADA TINA INPELE CAPELLI FORTI 60 CPS 30G</td>\n",
       "      <td>ADA TINA INPELE CAPELLI FORTI 60 CPS</td>\n",
       "      <td>7</td>\n",
       "    </tr>\n",
       "    <tr>\n",
       "      <th>62</th>\n",
       "      <td>63</td>\n",
       "      <td>7891962004433</td>\n",
       "      <td>AMANTEIGADO BANANA BAUDUCCO 11,5G</td>\n",
       "      <td>AMANTEIGADO BANANA BAUDUCCO 11,5G</td>\n",
       "      <td>4</td>\n",
       "    </tr>\n",
       "    <tr>\n",
       "      <th>51</th>\n",
       "      <td>52</td>\n",
       "      <td>7897371801274</td>\n",
       "      <td>CHUP NUK R 729532</td>\n",
       "      <td>CHUP NUK R 729532</td>\n",
       "      <td>4</td>\n",
       "    </tr>\n",
       "    <tr>\n",
       "      <th>55</th>\n",
       "      <td>56</td>\n",
       "      <td>7897371800505</td>\n",
       "      <td>CHUP NUK R729244</td>\n",
       "      <td>CHUP NUK R729244</td>\n",
       "      <td>3</td>\n",
       "    </tr>\n",
       "    <tr>\n",
       "      <th>83</th>\n",
       "      <td>84</td>\n",
       "      <td>7898312327488</td>\n",
       "      <td>ESC PROART BAMBU REF 73252</td>\n",
       "      <td>ESC PROART BAMBU  73252</td>\n",
       "      <td>5</td>\n",
       "    </tr>\n",
       "    <tr>\n",
       "      <th>169</th>\n",
       "      <td>171</td>\n",
       "      <td>7891040089956</td>\n",
       "      <td>NEXCARE ESPARADRAPO IMPERMEAVEL 1,2CMX3M</td>\n",
       "      <td>NEXCARE ESPARADRAPO IMPERMEAVEL 1,2CMX3M</td>\n",
       "      <td>4</td>\n",
       "    </tr>\n",
       "    <tr>\n",
       "      <th>172</th>\n",
       "      <td>174</td>\n",
       "      <td>7897262419960</td>\n",
       "      <td>PORTA RETRATOS 10CMX15CM</td>\n",
       "      <td>PORTA RETRATOS 10CMX15CM</td>\n",
       "      <td>3</td>\n",
       "    </tr>\n",
       "  </tbody>\n",
       "</table>\n",
       "</div>"
      ],
      "text/plain": [
       "      id        barcode                                      name  \\\n",
       "116  118  7891463000866             ABOCATE  (ANGIOCATH) INTRAV16   \n",
       "120  122  7891338700105          ACTISORB PLUS 10.5X10.5CM MAP105   \n",
       "167  169  7898225526923  ADA TINA INPELE CAPELLI FORTI 60 CPS 30G   \n",
       "62    63  7891962004433         AMANTEIGADO BANANA BAUDUCCO 11,5G   \n",
       "51    52  7897371801274                         CHUP NUK R 729532   \n",
       "55    56  7897371800505                          CHUP NUK R729244   \n",
       "83    84  7898312327488                ESC PROART BAMBU REF 73252   \n",
       "169  171  7891040089956  NEXCARE ESPARADRAPO IMPERMEAVEL 1,2CMX3M   \n",
       "172  174  7897262419960                  PORTA RETRATOS 10CMX15CM   \n",
       "\n",
       "                                      cleaned  num_words  \n",
       "116                        ABOCATE   INTRAV16          4  \n",
       "120          ACTISORB PLUS 10.5X10.5CM MAP105          4  \n",
       "167      ADA TINA INPELE CAPELLI FORTI 60 CPS          7  \n",
       "62          AMANTEIGADO BANANA BAUDUCCO 11,5G          4  \n",
       "51                          CHUP NUK R 729532          4  \n",
       "55                           CHUP NUK R729244          3  \n",
       "83                    ESC PROART BAMBU  73252          5  \n",
       "169  NEXCARE ESPARADRAPO IMPERMEAVEL 1,2CMX3M          4  \n",
       "172                  PORTA RETRATOS 10CMX15CM          3  "
      ]
     },
     "execution_count": 144,
     "metadata": {},
     "output_type": "execute_result"
    }
   ],
   "source": [
    "df[df['id'].isin([52, 56, 63, 84, 118, 122, 169, 171, 174])]"
   ]
  },
  {
   "cell_type": "code",
   "execution_count": 71,
   "metadata": {},
   "outputs": [],
   "source": [
    "# dict_ = {\n",
    "#     'SAB': 'SABONETE',\n",
    "#     'DES': 'DESODORANTE',\n",
    "#     'ESC': 'ESCOVA',\n",
    "#     'LOC': 'LOCAO',\n",
    "#     'TRAD': 'TRADICIONAL',\n",
    "#     'CURAT': 'CURATIVO',\n",
    "# }"
   ]
  }
 ],
 "metadata": {
  "interpreter": {
   "hash": "acb11136433e1efb98de00a145e85b8bf0160d48e03fcada26d6be9bd04c260e"
  },
  "kernelspec": {
   "display_name": "Python 3.10.4 ('.env': venv)",
   "language": "python",
   "name": "python3"
  },
  "language_info": {
   "codemirror_mode": {
    "name": "ipython",
    "version": 3
   },
   "file_extension": ".py",
   "mimetype": "text/x-python",
   "name": "python",
   "nbconvert_exporter": "python",
   "pygments_lexer": "ipython3",
   "version": "3.10.4"
  },
  "orig_nbformat": 4
 },
 "nbformat": 4,
 "nbformat_minor": 2
}
