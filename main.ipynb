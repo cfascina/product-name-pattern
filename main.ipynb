{
 "cells": [
  {
   "cell_type": "code",
   "execution_count": 1,
   "metadata": {},
   "outputs": [],
   "source": [
    "# NAO USAR A TABELA data_product, E SIM A store_product!!\n",
    "\n",
    "# Remover primeiro os itens 'C/ 8', verificando se após o 'C/' a string comça com dígito.\n",
    "# Após isso, remover diretamente os itens com 'C/', por exemplos 'C/8'\n",
    "# Fazer o mesmo para os itens com a string 'S/' e 'REF'"
   ]
  },
  {
   "cell_type": "code",
   "execution_count": 2,
   "metadata": {},
   "outputs": [],
   "source": [
    "import pandas as pd"
   ]
  },
  {
   "cell_type": "code",
   "execution_count": 3,
   "metadata": {},
   "outputs": [],
   "source": [
    "df = pd.read_csv('inputs/data_product_202208091047.csv', usecols = ['id', 'barcode', 'name'])"
   ]
  },
  {
   "cell_type": "code",
   "execution_count": 4,
   "metadata": {},
   "outputs": [
    {
     "data": {
      "text/plain": [
       "(69111, 3)"
      ]
     },
     "execution_count": 4,
     "metadata": {},
     "output_type": "execute_result"
    }
   ],
   "source": [
    "df.shape"
   ]
  },
  {
   "cell_type": "code",
   "execution_count": 5,
   "metadata": {},
   "outputs": [
    {
     "data": {
      "text/plain": [
       "48879"
      ]
     },
     "execution_count": 5,
     "metadata": {},
     "output_type": "execute_result"
    }
   ],
   "source": [
    "df['name'].nunique()\n"
   ]
  },
  {
   "cell_type": "code",
   "execution_count": 6,
   "metadata": {},
   "outputs": [],
   "source": [
    "df.drop_duplicates(subset = 'name', inplace = True)"
   ]
  },
  {
   "cell_type": "code",
   "execution_count": 7,
   "metadata": {},
   "outputs": [
    {
     "data": {
      "text/plain": [
       "(48879, 3)"
      ]
     },
     "execution_count": 7,
     "metadata": {},
     "output_type": "execute_result"
    }
   ],
   "source": [
    "df.shape"
   ]
  },
  {
   "cell_type": "code",
   "execution_count": 8,
   "metadata": {},
   "outputs": [],
   "source": [
    "df['name'] = df['name'].astype(str)"
   ]
  },
  {
   "cell_type": "code",
   "execution_count": 9,
   "metadata": {},
   "outputs": [],
   "source": [
    "df['name'] = df['name'].str.upper()"
   ]
  },
  {
   "cell_type": "code",
   "execution_count": 10,
   "metadata": {},
   "outputs": [],
   "source": [
    "df['cleaned'] = df['name']"
   ]
  },
  {
   "cell_type": "code",
   "execution_count": 31,
   "metadata": {},
   "outputs": [],
   "source": [
    "def remove_with_successor(name, element):\n",
    "    name = name.split(' ')\n",
    "\n",
    "    for k, v in enumerate(name):\n",
    "        try:\n",
    "            if (v == element and name[k + 1][0].isdigit()) or (v == element):\n",
    "                name.remove(name[k + 1])\n",
    "                name.remove(v)\n",
    "        except:\n",
    "            pass\n",
    "                    \n",
    "    return ' '.join(name)"
   ]
  },
  {
   "cell_type": "code",
   "execution_count": 13,
   "metadata": {},
   "outputs": [],
   "source": [
    "pairs = ['REF', 'R', 'C/', 'S/']"
   ]
  },
  {
   "cell_type": "code",
   "execution_count": 14,
   "metadata": {},
   "outputs": [],
   "source": [
    "for item in pairs:\n",
    "    df['cleaned'] = df['cleaned'].apply(lambda x: remove_with_successor(x, item))"
   ]
  },
  {
   "cell_type": "code",
   "execution_count": 15,
   "metadata": {},
   "outputs": [],
   "source": [
    "# def remove_metrics(name):\n",
    "#     to_remove = []\n",
    "    \n",
    "#     for word in name.split():\n",
    "#         if word[0].isdigit() and 'X' in word and word[-1] == 'M' :\n",
    "#             to_remove.append(word)\n",
    "\n",
    "#     if len(to_remove) > 0:\n",
    "#         return ''. join([name.replace(x, '') for x in to_remove])\n",
    "    \n",
    "#     return name"
   ]
  },
  {
   "cell_type": "code",
   "execution_count": 16,
   "metadata": {},
   "outputs": [],
   "source": [
    "# df['cleaned'] = df['cleaned'].apply(lambda x: remove_metrics(x))"
   ]
  },
  {
   "cell_type": "code",
   "execution_count": 17,
   "metadata": {},
   "outputs": [],
   "source": [
    "# def remove_startswith(name):\n",
    "#     return lambda words: words.replace(''.join([x for x in words.split(' ') if x.startswith(name)]), '')"
   ]
  },
  {
   "cell_type": "code",
   "execution_count": 18,
   "metadata": {},
   "outputs": [],
   "source": [
    "# startswith_ = ['(', 'REF', 'C/', 'S/', 'INTRAV']"
   ]
  },
  {
   "cell_type": "code",
   "execution_count": 19,
   "metadata": {},
   "outputs": [],
   "source": [
    "# def remove_endswith(name, numbers):\n",
    "#     return lambda words: words.replace(''.join([x for x in words.split(' ') if x.endswith(name) and x[:numbers].isdigit()]), '')"
   ]
  },
  {
   "cell_type": "code",
   "execution_count": 20,
   "metadata": {},
   "outputs": [],
   "source": [
    "# endswith_ = {\n",
    "#     'G':    -len('G'),\n",
    "#     'L':    -len('L'),\n",
    "#     'UN':   -len('UN'),\n",
    "#     'ML':   -len('ML'),\n",
    "#     'GR':   -len('GR'),\n",
    "#     'CPS':  -len('CPS'),\n",
    "#     'VOL':  -len('VOL'),\n",
    "#     'CAP':  -len('CAP')\n",
    "# }"
   ]
  },
  {
   "cell_type": "code",
   "execution_count": 21,
   "metadata": {},
   "outputs": [],
   "source": [
    "# for name in startswith_:\n",
    "#     df['cleaned'] = df['cleaned'].apply(remove_startswith(name))"
   ]
  },
  {
   "cell_type": "code",
   "execution_count": 22,
   "metadata": {},
   "outputs": [],
   "source": [
    "# for k, v in endswith_.items():\n",
    "#     df['cleaned'] = df['cleaned'].apply(remove_endswith(k, v))"
   ]
  },
  {
   "cell_type": "code",
   "execution_count": 23,
   "metadata": {},
   "outputs": [],
   "source": [
    "df['cleaned'] = df['cleaned'].str.strip()"
   ]
  },
  {
   "cell_type": "code",
   "execution_count": 24,
   "metadata": {},
   "outputs": [],
   "source": [
    "df['num_words'] = df['cleaned'].apply(lambda x: len(str(x).split(' ')))"
   ]
  },
  {
   "cell_type": "code",
   "execution_count": 25,
   "metadata": {},
   "outputs": [],
   "source": [
    "items_cleaned = [\n",
    "    52, 84, 15533, 15876\n",
    "    # 48, 57, 58, 60, 76, 77, 82, 83, 84, 88, 94, 102, 106, 116, 118, 122, 171, 174\n",
    "]"
   ]
  },
  {
   "cell_type": "code",
   "execution_count": 26,
   "metadata": {},
   "outputs": [
    {
     "data": {
      "text/html": [
       "<div>\n",
       "<style scoped>\n",
       "    .dataframe tbody tr th:only-of-type {\n",
       "        vertical-align: middle;\n",
       "    }\n",
       "\n",
       "    .dataframe tbody tr th {\n",
       "        vertical-align: top;\n",
       "    }\n",
       "\n",
       "    .dataframe thead th {\n",
       "        text-align: right;\n",
       "    }\n",
       "</style>\n",
       "<table border=\"1\" class=\"dataframe\">\n",
       "  <thead>\n",
       "    <tr style=\"text-align: right;\">\n",
       "      <th></th>\n",
       "      <th>id</th>\n",
       "      <th>barcode</th>\n",
       "      <th>name</th>\n",
       "      <th>cleaned</th>\n",
       "      <th>num_words</th>\n",
       "    </tr>\n",
       "  </thead>\n",
       "  <tbody>\n",
       "    <tr>\n",
       "      <th>51</th>\n",
       "      <td>52</td>\n",
       "      <td>7897371801274</td>\n",
       "      <td>CHUP NUK R 729532</td>\n",
       "      <td>CHUP NUK</td>\n",
       "      <td>2</td>\n",
       "    </tr>\n",
       "    <tr>\n",
       "      <th>83</th>\n",
       "      <td>84</td>\n",
       "      <td>7898312327488</td>\n",
       "      <td>ESC PROART BAMBU REF 73252</td>\n",
       "      <td>ESC PROART BAMBU</td>\n",
       "      <td>3</td>\n",
       "    </tr>\n",
       "    <tr>\n",
       "      <th>15546</th>\n",
       "      <td>15533</td>\n",
       "      <td>7894900530025</td>\n",
       "      <td>AGUA CRYSTAL PET 1L C/ BICO</td>\n",
       "      <td>AGUA CRYSTAL PET 1L</td>\n",
       "      <td>4</td>\n",
       "    </tr>\n",
       "    <tr>\n",
       "      <th>15892</th>\n",
       "      <td>15876</td>\n",
       "      <td>7891025102113</td>\n",
       "      <td>AGUA MINERAL BONAFONT S/ GAS 500ML</td>\n",
       "      <td>AGUA MINERAL BONAFONT 500ML</td>\n",
       "      <td>4</td>\n",
       "    </tr>\n",
       "  </tbody>\n",
       "</table>\n",
       "</div>"
      ],
      "text/plain": [
       "          id        barcode                                name  \\\n",
       "51        52  7897371801274                   CHUP NUK R 729532   \n",
       "83        84  7898312327488          ESC PROART BAMBU REF 73252   \n",
       "15546  15533  7894900530025         AGUA CRYSTAL PET 1L C/ BICO   \n",
       "15892  15876  7891025102113  AGUA MINERAL BONAFONT S/ GAS 500ML   \n",
       "\n",
       "                           cleaned  num_words  \n",
       "51                        CHUP NUK          2  \n",
       "83                ESC PROART BAMBU          3  \n",
       "15546          AGUA CRYSTAL PET 1L          4  \n",
       "15892  AGUA MINERAL BONAFONT 500ML          4  "
      ]
     },
     "execution_count": 26,
     "metadata": {},
     "output_type": "execute_result"
    }
   ],
   "source": [
    "df[df['id'].isin(items_cleaned)].sort_values(by = 'id')"
   ]
  },
  {
   "cell_type": "code",
   "execution_count": 27,
   "metadata": {},
   "outputs": [],
   "source": [
    "# df.sort_values(by = 'cleaned', inplace = True)"
   ]
  },
  {
   "cell_type": "code",
   "execution_count": 28,
   "metadata": {},
   "outputs": [],
   "source": [
    "# df.to_csv('output.csv')"
   ]
  },
  {
   "cell_type": "markdown",
   "metadata": {},
   "source": [
    "---"
   ]
  },
  {
   "cell_type": "markdown",
   "metadata": {},
   "source": [
    "Tests:"
   ]
  },
  {
   "cell_type": "code",
   "execution_count": null,
   "metadata": {},
   "outputs": [],
   "source": []
  },
  {
   "cell_type": "code",
   "execution_count": null,
   "metadata": {},
   "outputs": [],
   "source": []
  },
  {
   "cell_type": "markdown",
   "metadata": {},
   "source": [
    "---"
   ]
  },
  {
   "cell_type": "markdown",
   "metadata": {},
   "source": [
    "To remove:"
   ]
  },
  {
   "cell_type": "code",
   "execution_count": 29,
   "metadata": {},
   "outputs": [
    {
     "data": {
      "text/html": [
       "<div>\n",
       "<style scoped>\n",
       "    .dataframe tbody tr th:only-of-type {\n",
       "        vertical-align: middle;\n",
       "    }\n",
       "\n",
       "    .dataframe tbody tr th {\n",
       "        vertical-align: top;\n",
       "    }\n",
       "\n",
       "    .dataframe thead th {\n",
       "        text-align: right;\n",
       "    }\n",
       "</style>\n",
       "<table border=\"1\" class=\"dataframe\">\n",
       "  <thead>\n",
       "    <tr style=\"text-align: right;\">\n",
       "      <th></th>\n",
       "      <th>id</th>\n",
       "      <th>barcode</th>\n",
       "      <th>name</th>\n",
       "      <th>cleaned</th>\n",
       "      <th>num_words</th>\n",
       "    </tr>\n",
       "  </thead>\n",
       "  <tbody>\n",
       "    <tr>\n",
       "      <th>55</th>\n",
       "      <td>56</td>\n",
       "      <td>7897371800505</td>\n",
       "      <td>CHUP NUK R729244</td>\n",
       "      <td>CHUP NUK R729244</td>\n",
       "      <td>3</td>\n",
       "    </tr>\n",
       "    <tr>\n",
       "      <th>62</th>\n",
       "      <td>63</td>\n",
       "      <td>7891962004433</td>\n",
       "      <td>AMANTEIGADO BANANA BAUDUCCO 11,5G</td>\n",
       "      <td>AMANTEIGADO BANANA BAUDUCCO 11,5G</td>\n",
       "      <td>4</td>\n",
       "    </tr>\n",
       "    <tr>\n",
       "      <th>83</th>\n",
       "      <td>84</td>\n",
       "      <td>7898312327488</td>\n",
       "      <td>ESC PROART BAMBU REF 73252</td>\n",
       "      <td>ESC PROART BAMBU</td>\n",
       "      <td>3</td>\n",
       "    </tr>\n",
       "    <tr>\n",
       "      <th>167</th>\n",
       "      <td>169</td>\n",
       "      <td>7898225526923</td>\n",
       "      <td>ADA TINA INPELE CAPELLI FORTI 60 CPS 30G</td>\n",
       "      <td>ADA TINA INPELE CAPELLI FORTI 60 CPS 30G</td>\n",
       "      <td>8</td>\n",
       "    </tr>\n",
       "    <tr>\n",
       "      <th>14891</th>\n",
       "      <td>14875</td>\n",
       "      <td>7896902200913</td>\n",
       "      <td>ACETONA FARMAX C/ 100 ML</td>\n",
       "      <td>ACETONA FARMAX ML</td>\n",
       "      <td>3</td>\n",
       "    </tr>\n",
       "  </tbody>\n",
       "</table>\n",
       "</div>"
      ],
      "text/plain": [
       "          id        barcode                                      name  \\\n",
       "55        56  7897371800505                          CHUP NUK R729244   \n",
       "62        63  7891962004433         AMANTEIGADO BANANA BAUDUCCO 11,5G   \n",
       "83        84  7898312327488                ESC PROART BAMBU REF 73252   \n",
       "167      169  7898225526923  ADA TINA INPELE CAPELLI FORTI 60 CPS 30G   \n",
       "14891  14875  7896902200913                  ACETONA FARMAX C/ 100 ML   \n",
       "\n",
       "                                        cleaned  num_words  \n",
       "55                             CHUP NUK R729244          3  \n",
       "62            AMANTEIGADO BANANA BAUDUCCO 11,5G          4  \n",
       "83                             ESC PROART BAMBU          3  \n",
       "167    ADA TINA INPELE CAPELLI FORTI 60 CPS 30G          8  \n",
       "14891                         ACETONA FARMAX ML          3  "
      ]
     },
     "execution_count": 29,
     "metadata": {},
     "output_type": "execute_result"
    }
   ],
   "source": [
    "df[df['id'].isin([56, 63, 84, 169, 14875])]"
   ]
  },
  {
   "cell_type": "code",
   "execution_count": 30,
   "metadata": {},
   "outputs": [],
   "source": [
    "# dict_ = {\n",
    "#     'SAB': 'SABONETE',\n",
    "#     'DES': 'DESODORANTE',\n",
    "#     'ESC': 'ESCOVA',\n",
    "#     'LOC': 'LOCAO',\n",
    "#     'TRAD': 'TRADICIONAL',\n",
    "#     'CURAT': 'CURATIVO',\n",
    "# }"
   ]
  }
 ],
 "metadata": {
  "interpreter": {
   "hash": "acb11136433e1efb98de00a145e85b8bf0160d48e03fcada26d6be9bd04c260e"
  },
  "kernelspec": {
   "display_name": "Python 3.10.4 ('.env': venv)",
   "language": "python",
   "name": "python3"
  },
  "language_info": {
   "codemirror_mode": {
    "name": "ipython",
    "version": 3
   },
   "file_extension": ".py",
   "mimetype": "text/x-python",
   "name": "python",
   "nbconvert_exporter": "python",
   "pygments_lexer": "ipython3",
   "version": "3.10.4"
  },
  "orig_nbformat": 4
 },
 "nbformat": 4,
 "nbformat_minor": 2
}
