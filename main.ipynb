{
 "cells": [
  {
   "cell_type": "markdown",
   "metadata": {},
   "source": [
    "#### Initial configurations"
   ]
  },
  {
   "cell_type": "code",
   "execution_count": 36,
   "metadata": {},
   "outputs": [],
   "source": [
    "import pandas as pd\n",
    "import re"
   ]
  },
  {
   "cell_type": "code",
   "execution_count": 37,
   "metadata": {},
   "outputs": [],
   "source": [
    "df = pd.read_csv('inputs/data_storeproduct_202208111119.csv', usecols = ['id', 'name'])"
   ]
  },
  {
   "cell_type": "code",
   "execution_count": 38,
   "metadata": {},
   "outputs": [
    {
     "data": {
      "text/plain": [
       "(820512, 2)"
      ]
     },
     "execution_count": 38,
     "metadata": {},
     "output_type": "execute_result"
    }
   ],
   "source": [
    "df.shape"
   ]
  },
  {
   "cell_type": "code",
   "execution_count": 39,
   "metadata": {},
   "outputs": [],
   "source": [
    "df.drop_duplicates(subset = 'name', inplace = True)"
   ]
  },
  {
   "cell_type": "code",
   "execution_count": 40,
   "metadata": {},
   "outputs": [
    {
     "data": {
      "text/plain": [
       "(306052, 2)"
      ]
     },
     "execution_count": 40,
     "metadata": {},
     "output_type": "execute_result"
    }
   ],
   "source": [
    "df.shape"
   ]
  },
  {
   "cell_type": "code",
   "execution_count": 41,
   "metadata": {},
   "outputs": [],
   "source": [
    "df['name'] = df['name'].str.upper()"
   ]
  },
  {
   "cell_type": "code",
   "execution_count": 42,
   "metadata": {},
   "outputs": [],
   "source": [
    "df['clean'] = df['name']"
   ]
  },
  {
   "cell_type": "markdown",
   "metadata": {},
   "source": [
    "---"
   ]
  },
  {
   "cell_type": "markdown",
   "metadata": {},
   "source": [
    "### Removes parentheses"
   ]
  },
  {
   "cell_type": "code",
   "execution_count": 43,
   "metadata": {},
   "outputs": [],
   "source": [
    "df['clean'] = df['clean'].apply(lambda x: re.sub(r'\\([^()]*\\)', '', x) if x else x)"
   ]
  },
  {
   "cell_type": "code",
   "execution_count": 44,
   "metadata": {},
   "outputs": [],
   "source": [
    "# # Tested Items\n",
    "# df.loc[[743024, 270107, 210205, 295409, 295406, 764575, 208980, 205859, 764574, 796994, 744286]]"
   ]
  },
  {
   "cell_type": "markdown",
   "metadata": {},
   "source": [
    "---"
   ]
  },
  {
   "cell_type": "markdown",
   "metadata": {},
   "source": [
    "### Removes initial digits"
   ]
  },
  {
   "cell_type": "code",
   "execution_count": 45,
   "metadata": {},
   "outputs": [],
   "source": [
    "def clean_initial_digits(name):\n",
    "    try:\n",
    "        word = name.split()[0]\n",
    "        digits = sum(l.isdigit() for l in word)\n",
    "        \n",
    "        if digits >= len(word) - digits:\n",
    "            return name.replace(word, '')\n",
    "        else:\n",
    "            return name\n",
    "    except:\n",
    "        return name"
   ]
  },
  {
   "cell_type": "code",
   "execution_count": 46,
   "metadata": {},
   "outputs": [],
   "source": [
    "df['clean'] = df['clean'].apply(lambda x: clean_initial_digits(x))"
   ]
  },
  {
   "cell_type": "code",
   "execution_count": 47,
   "metadata": {},
   "outputs": [],
   "source": [
    "# # Tested Items\n",
    "# df.loc[[638551, 337465, 337317, 32411, 557546]]"
   ]
  },
  {
   "cell_type": "markdown",
   "metadata": {},
   "source": [
    "---"
   ]
  },
  {
   "cell_type": "markdown",
   "metadata": {},
   "source": [
    "### Removes initial characters"
   ]
  },
  {
   "cell_type": "code",
   "execution_count": 48,
   "metadata": {},
   "outputs": [],
   "source": [
    "def clean_initial_characters(name):\n",
    "    chars = ['!', '%', '*', '+', ',', '-', '.', '/', '<', '=']\n",
    "    to_remove = []\n",
    "\n",
    "    try:\n",
    "        word = name.split()[0]\n",
    "        for letter in word:\n",
    "            if letter in chars:\n",
    "                to_remove.append(letter)\n",
    "        \n",
    "        if len(to_remove) > 0:\n",
    "            cleaned = ''.join([w for w in word if w not in to_remove])\n",
    "            name = name.split()[1:]\n",
    "            name.insert(0, cleaned)\n",
    "            \n",
    "            return ' '.join(name)\n",
    "        else:\n",
    "            return name\n",
    "    except:\n",
    "        return name"
   ]
  },
  {
   "cell_type": "code",
   "execution_count": 49,
   "metadata": {},
   "outputs": [],
   "source": [
    "df['clean'] = df['clean'].apply(lambda x: clean_initial_characters(x))"
   ]
  },
  {
   "cell_type": "code",
   "execution_count": 50,
   "metadata": {},
   "outputs": [],
   "source": [
    "# # Tested Items\n",
    "# df.loc[[481395, 295715, 755477, 178663, 484751, 239320, 28118, 280929, 170862, 106470]]"
   ]
  },
  {
   "cell_type": "markdown",
   "metadata": {},
   "source": [
    "---"
   ]
  },
  {
   "cell_type": "markdown",
   "metadata": {},
   "source": [
    "### Removes units"
   ]
  },
  {
   "cell_type": "code",
   "execution_count": 51,
   "metadata": {},
   "outputs": [],
   "source": [
    "def clean_units(name):\n",
    "    units = [\n",
    "        'U', 'G', 'V', 'P', 'L', 'M', \n",
    "        'GR', 'KG', 'ML', 'UN', 'CM', 'MG', 'CP', 'MM', 'CM', 'PC', \n",
    "        'CPS', 'CPR', 'VOL', 'CAP', 'UND', 'GRS', \n",
    "        'CAPS', 'UNID', 'UNDS', 'CPRS', 'COMP', \n",
    "        'UNID.', 'SACHES' \n",
    "    ]\n",
    "    to_remove = []\n",
    "    words = name.split()\n",
    "\n",
    "    for word in words:\n",
    "        for unit in units:\n",
    "            if word == unit:\n",
    "                to_remove.append(word)\n",
    "                \n",
    "                try:\n",
    "                    previous_word = words[words.index(word) - 1]\n",
    "                    digits = sum(c.isdigit() for c in previous_word)\n",
    "\n",
    "                    if digits >= len(previous_word) - digits:\n",
    "                        to_remove.append(previous_word)\n",
    "                except:\n",
    "                    pass\n",
    "\n",
    "            if word[-len(unit):] == unit:\n",
    "                qty = word[:-len(unit)]\n",
    "                digits = sum(c.isdigit() for c in qty)\n",
    "                \n",
    "                if digits >= len(qty) - digits:\n",
    "                    to_remove.append(word)\n",
    "\n",
    "    return ' '.join([word for word in words if word not in to_remove])"
   ]
  },
  {
   "cell_type": "code",
   "execution_count": 52,
   "metadata": {},
   "outputs": [],
   "source": [
    "df['clean'] = df['clean'].apply(lambda x: clean_units(x))"
   ]
  },
  {
   "cell_type": "code",
   "execution_count": 53,
   "metadata": {},
   "outputs": [],
   "source": [
    "# # Tested Items\n",
    "# df.loc[[\n",
    "#     363199, 635298, 40689,  740467, 213141, 679374, 288780, 810939, 510231, 648258, \n",
    "#     704156, 178001, 413533, 785982, 340359, 211457, 565330, 739959, 491207, 598294, \n",
    "#     212840, 585916, 575283, 786004, 545491, 646295, 734862, 353142, 51607,  624800, \n",
    "#     256973, 713142, 536849, 165346, 214062, 685358, 520570, 120444, 685071, 712342, \n",
    "#     484879, 685358, 765239, 658096, 729729, 545046, 507365, 444408, 29568,  168168, \n",
    "#     220269, 238971, 487450, 726061, 696019, 122934, 649598, 350363\n",
    "# ]]"
   ]
  },
  {
   "cell_type": "markdown",
   "metadata": {},
   "source": [
    "---"
   ]
  },
  {
   "cell_type": "markdown",
   "metadata": {},
   "source": [
    "### Removes abbreviations"
   ]
  },
  {
   "cell_type": "code",
   "execution_count": 54,
   "metadata": {},
   "outputs": [],
   "source": [
    "def clean_abbrs(name):\n",
    "    abbrs = ['REF', 'REF.', 'C/', 'S/', 'P/', 'FPS']\n",
    "    to_remove = []\n",
    "    words = name.split()\n",
    "\n",
    "    for word in words:\n",
    "        if word in abbrs:\n",
    "            to_remove.append(word)\n",
    "\n",
    "            try:\n",
    "                to_remove.append(words[words.index(word) + 1])\n",
    "            except:\n",
    "                pass\n",
    "            \n",
    "        elif word.startswith(tuple(abbrs)):\n",
    "            for abbr in abbrs:\n",
    "                if abbr == 'REF' == word[:3] and word[3] != '.' and not word[len(abbr):][0].isdigit():\n",
    "                    break\n",
    "                else:\n",
    "                    to_remove.append(word)\n",
    "\n",
    "    return ' '.join([word for word in words if word not in to_remove])"
   ]
  },
  {
   "cell_type": "code",
   "execution_count": 55,
   "metadata": {},
   "outputs": [],
   "source": [
    "df['clean'] = df['clean'].apply(lambda x: clean_abbrs(x))"
   ]
  },
  {
   "cell_type": "code",
   "execution_count": 56,
   "metadata": {},
   "outputs": [],
   "source": [
    "# # Tested Items\n",
    "# df.loc[[\n",
    "#     507889, 308443, 814522, 708421, 800889, 773057, 671045, 583425, 582548, 700178, \n",
    "#     318441, 318442, 214566, 632491, 480583, 733038, 407674, 658417, 310619, 648318\n",
    "# ]]"
   ]
  },
  {
   "cell_type": "markdown",
   "metadata": {},
   "source": [
    "---"
   ]
  },
  {
   "cell_type": "markdown",
   "metadata": {},
   "source": [
    "### Removes initial digits and characters"
   ]
  },
  {
   "cell_type": "code",
   "execution_count": 57,
   "metadata": {},
   "outputs": [],
   "source": [
    "df['clean'] = df['clean'].apply(lambda x: clean_initial_digits(x))"
   ]
  },
  {
   "cell_type": "code",
   "execution_count": 58,
   "metadata": {},
   "outputs": [],
   "source": [
    "df['clean'] = df['clean'].apply(lambda x: clean_initial_characters(x))"
   ]
  },
  {
   "cell_type": "markdown",
   "metadata": {},
   "source": [
    "---"
   ]
  },
  {
   "cell_type": "markdown",
   "metadata": {},
   "source": [
    "### Removes isolated words"
   ]
  },
  {
   "cell_type": "code",
   "execution_count": 59,
   "metadata": {},
   "outputs": [],
   "source": [
    "def clean_isolated(name):\n",
    "    isolated = [\n",
    "        'CR', 'COMP.', 'COMPR', 'COMPRIMIDOS', \n",
    "        'CAP.', 'CAPS.', 'CAPSULA', 'CAPSULAS',\n",
    "        'CX.', 'CX', 'CAIXA'\n",
    "    ]\n",
    "    to_remove = []\n",
    "    words = name.split()\n",
    "\n",
    "    for word in words:\n",
    "        if word in isolated:\n",
    "            to_remove.append(word)\n",
    "\n",
    "    return ' '.join([word for word in words if word not in to_remove])"
   ]
  },
  {
   "cell_type": "code",
   "execution_count": 60,
   "metadata": {},
   "outputs": [],
   "source": [
    "df['clean'] = df['clean'].apply(lambda x: clean_isolated(x))"
   ]
  },
  {
   "cell_type": "code",
   "execution_count": 61,
   "metadata": {},
   "outputs": [
    {
     "data": {
      "text/html": [
       "<div>\n",
       "<style scoped>\n",
       "    .dataframe tbody tr th:only-of-type {\n",
       "        vertical-align: middle;\n",
       "    }\n",
       "\n",
       "    .dataframe tbody tr th {\n",
       "        vertical-align: top;\n",
       "    }\n",
       "\n",
       "    .dataframe thead th {\n",
       "        text-align: right;\n",
       "    }\n",
       "</style>\n",
       "<table border=\"1\" class=\"dataframe\">\n",
       "  <thead>\n",
       "    <tr style=\"text-align: right;\">\n",
       "      <th></th>\n",
       "      <th>id</th>\n",
       "      <th>name</th>\n",
       "      <th>clean</th>\n",
       "    </tr>\n",
       "  </thead>\n",
       "  <tbody>\n",
       "    <tr>\n",
       "      <th>413099</th>\n",
       "      <td>475913</td>\n",
       "      <td>HERCAP 5MG CR 30G</td>\n",
       "      <td>HERCAP</td>\n",
       "    </tr>\n",
       "    <tr>\n",
       "      <th>208413</th>\n",
       "      <td>312547</td>\n",
       "      <td>AAS 100MG C/120 COMP.</td>\n",
       "      <td>AAS</td>\n",
       "    </tr>\n",
       "    <tr>\n",
       "      <th>291647</th>\n",
       "      <td>221052</td>\n",
       "      <td>ABLOK PLUS 25+12,5MG CX 60 COMPR</td>\n",
       "      <td>ABLOK PLUS 60</td>\n",
       "    </tr>\n",
       "    <tr>\n",
       "      <th>239129</th>\n",
       "      <td>230169</td>\n",
       "      <td>ACICLOVIR 200MG C/25 COMPRIMIDOS</td>\n",
       "      <td>ACICLOVIR</td>\n",
       "    </tr>\n",
       "    <tr>\n",
       "      <th>416768</th>\n",
       "      <td>201238</td>\n",
       "      <td>DOSS 50000 UI CX C/8 CAP. GELATINOSAS</td>\n",
       "      <td>DOSS 50000 UI GELATINOSAS</td>\n",
       "    </tr>\n",
       "    <tr>\n",
       "      <th>504305</th>\n",
       "      <td>425358</td>\n",
       "      <td>ADDERA 60.000UI C/2 CAPS.</td>\n",
       "      <td>ADDERA 60.000UI</td>\n",
       "    </tr>\n",
       "    <tr>\n",
       "      <th>173425</th>\n",
       "      <td>403301</td>\n",
       "      <td>ADEFORTE CAPSULA CX C  60</td>\n",
       "      <td>ADEFORTE C 60</td>\n",
       "    </tr>\n",
       "    <tr>\n",
       "      <th>804124</th>\n",
       "      <td>366740</td>\n",
       "      <td>ACIDO HIALURONICO 60 CAPSULAS</td>\n",
       "      <td>ACIDO HIALURONICO 60</td>\n",
       "    </tr>\n",
       "    <tr>\n",
       "      <th>239195</th>\n",
       "      <td>436964</td>\n",
       "      <td>GLICLAZIDA 60MG - CX. C/ 60 COMP LIB PROL</td>\n",
       "      <td>GLICLAZIDA - PROL</td>\n",
       "    </tr>\n",
       "    <tr>\n",
       "      <th>175181</th>\n",
       "      <td>1022435</td>\n",
       "      <td>AAS 100MG CX 30 COMP</td>\n",
       "      <td>AAS</td>\n",
       "    </tr>\n",
       "    <tr>\n",
       "      <th>634522</th>\n",
       "      <td>444153</td>\n",
       "      <td>ALGODAO 25G CAIXA</td>\n",
       "      <td>ALGODAO</td>\n",
       "    </tr>\n",
       "  </tbody>\n",
       "</table>\n",
       "</div>"
      ],
      "text/plain": [
       "             id                                       name  \\\n",
       "413099   475913                          HERCAP 5MG CR 30G   \n",
       "208413   312547                      AAS 100MG C/120 COMP.   \n",
       "291647   221052           ABLOK PLUS 25+12,5MG CX 60 COMPR   \n",
       "239129   230169           ACICLOVIR 200MG C/25 COMPRIMIDOS   \n",
       "416768   201238      DOSS 50000 UI CX C/8 CAP. GELATINOSAS   \n",
       "504305   425358                  ADDERA 60.000UI C/2 CAPS.   \n",
       "173425   403301                  ADEFORTE CAPSULA CX C  60   \n",
       "804124   366740              ACIDO HIALURONICO 60 CAPSULAS   \n",
       "239195   436964  GLICLAZIDA 60MG - CX. C/ 60 COMP LIB PROL   \n",
       "175181  1022435                       AAS 100MG CX 30 COMP   \n",
       "634522   444153                          ALGODAO 25G CAIXA   \n",
       "\n",
       "                            clean  \n",
       "413099                     HERCAP  \n",
       "208413                        AAS  \n",
       "291647              ABLOK PLUS 60  \n",
       "239129                  ACICLOVIR  \n",
       "416768  DOSS 50000 UI GELATINOSAS  \n",
       "504305            ADDERA 60.000UI  \n",
       "173425              ADEFORTE C 60  \n",
       "804124       ACIDO HIALURONICO 60  \n",
       "239195          GLICLAZIDA - PROL  \n",
       "175181                        AAS  \n",
       "634522                    ALGODAO  "
      ]
     },
     "execution_count": 61,
     "metadata": {},
     "output_type": "execute_result"
    }
   ],
   "source": [
    "# Tested Items\n",
    "df.loc[[413099, 208413, 291647, 239129, 416768, 504305, 173425, 804124, 239195, 175181, 634522]]"
   ]
  },
  {
   "cell_type": "markdown",
   "metadata": {},
   "source": [
    "---"
   ]
  },
  {
   "cell_type": "markdown",
   "metadata": {},
   "source": [
    "### Creates a CSV file with cleaned names"
   ]
  },
  {
   "cell_type": "code",
   "execution_count": 62,
   "metadata": {},
   "outputs": [],
   "source": [
    "df['clean'] = df['clean'].str.strip()"
   ]
  },
  {
   "cell_type": "code",
   "execution_count": 63,
   "metadata": {},
   "outputs": [],
   "source": [
    "df['had_changes'] = df['clean'] != df['name']"
   ]
  },
  {
   "cell_type": "code",
   "execution_count": 64,
   "metadata": {},
   "outputs": [],
   "source": [
    "df['num_words'] = df['clean'].apply(lambda x: len(str(x).split()))"
   ]
  },
  {
   "cell_type": "code",
   "execution_count": 65,
   "metadata": {},
   "outputs": [],
   "source": [
    "df.sort_values(by = 'clean', inplace = True)"
   ]
  },
  {
   "cell_type": "code",
   "execution_count": 66,
   "metadata": {},
   "outputs": [],
   "source": [
    "df.to_csv('outputs/clean.csv', index = False)"
   ]
  },
  {
   "cell_type": "markdown",
   "metadata": {},
   "source": [
    "---"
   ]
  },
  {
   "cell_type": "markdown",
   "metadata": {},
   "source": [
    "### Metrics"
   ]
  },
  {
   "cell_type": "code",
   "execution_count": 67,
   "metadata": {},
   "outputs": [
    {
     "name": "stdout",
     "output_type": "stream",
     "text": [
      "Items\n",
      "-----\n",
      "Total: 306052\n",
      "Changed: 236925\n",
      "Not Changed: 69127\n"
     ]
    }
   ],
   "source": [
    "print(f\"Items\\n{'-' * len('Items')}\")\n",
    "print(f\"Total: {df.shape[0]}\")\n",
    "print(f\"Changed: {len(df[df['had_changes'] == True])}\")\n",
    "print(f\"Not Changed: {len(df[df['had_changes'] == False])}\")\n",
    "\n",
    "# TOTAL     CHANGED     NOT CHANGED\n",
    "# 306.052   36.829      269.223\n",
    "# 306.052   91.447      214.605\n",
    "# 306.052   232.885     73.167\n",
    "# 306.052   234.920     71.132\n",
    "# 306.052   236.925     69.127"
   ]
  },
  {
   "cell_type": "code",
   "execution_count": 68,
   "metadata": {},
   "outputs": [
    {
     "name": "stdout",
     "output_type": "stream",
     "text": [
      "Unique Items\n",
      "------------\n",
      "Original dataset: 306051\n",
      "Cleaned dataset: 252891\n",
      "Unified items: 53160\n"
     ]
    }
   ],
   "source": [
    "print(f\"Unique Items\\n{'-' * len('Unique Items')}\")\n",
    "print(f\"Original dataset: {df['name'].nunique()}\")\n",
    "print(f\"Cleaned dataset: {df['clean'].nunique()}\")\n",
    "print(f\"Unified items: {df['name'].nunique() - df['clean'].nunique()}\")\n",
    "\n",
    "# ORIGINAL      CLEANED     UNIFIED\n",
    "# 306.051       303.710     2.341\n",
    "# 306.051       297.114     8.937\n",
    "# 306.051       259.696     46.355\n",
    "# 306.051       256.832     49.219\n",
    "# 306.051       252.891     53.160"
   ]
  },
  {
   "cell_type": "markdown",
   "metadata": {},
   "source": [
    "---"
   ]
  },
  {
   "cell_type": "code",
   "execution_count": 69,
   "metadata": {},
   "outputs": [],
   "source": [
    "# df[df['clean'].str.contains('|'.join(unique_))]\n",
    "# df[df['clean'].str.contains(' UNID. ')]"
   ]
  },
  {
   "cell_type": "markdown",
   "metadata": {},
   "source": [
    "---"
   ]
  },
  {
   "cell_type": "code",
   "execution_count": 70,
   "metadata": {},
   "outputs": [],
   "source": [
    "# dict_ = {\n",
    "#     'TX': 'TAXA',\n",
    "#     'ABS': 'ABSORVENTE',\n",
    "#     'ESP': 'ESPARADRAPO',\n",
    "#     'SAB': 'SABONETE',\n",
    "#     'DES': 'DESODORANTE',\n",
    "#     'ESC': 'ESCOVA',\n",
    "#     'LOC': 'LOCAO',\n",
    "#     'PERF': 'PERFUME',\n",
    "#     'TRAD': 'TRADICIONAL',\n",
    "#     'CURAT': 'CURATIVO',\n",
    "# }"
   ]
  }
 ],
 "metadata": {
  "interpreter": {
   "hash": "acb11136433e1efb98de00a145e85b8bf0160d48e03fcada26d6be9bd04c260e"
  },
  "kernelspec": {
   "display_name": "Python 3.10.4 ('.env': venv)",
   "language": "python",
   "name": "python3"
  },
  "language_info": {
   "codemirror_mode": {
    "name": "ipython",
    "version": 3
   },
   "file_extension": ".py",
   "mimetype": "text/x-python",
   "name": "python",
   "nbconvert_exporter": "python",
   "pygments_lexer": "ipython3",
   "version": "3.10.4"
  },
  "orig_nbformat": 4
 },
 "nbformat": 4,
 "nbformat_minor": 2
}
